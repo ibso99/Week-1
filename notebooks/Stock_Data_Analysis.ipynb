{
 "cells": [
  {
   "cell_type": "code",
   "execution_count": 1,
   "metadata": {},
   "outputs": [],
   "source": [
    "# Data Manipulation\n",
    "import pandas as pd  \n",
    "import numpy as np   \n",
    "\n",
    "# Data Visualization\n",
    "import matplotlib.pyplot as plt  \n",
    "import seaborn as sns            # For advanced and aesthetically pleasing visualizations\n",
    "\n",
    "# Text Analysis (Sentiment and NLP)\n",
    "from nltk.sentiment import SentimentIntensityAnalyzer  \n",
    "from textblob import TextBlob                          \n",
    "from wordcloud import WordCloud                       \n",
    "\n",
    "# Time-Series Analysis\n",
    "import datetime as dt  # For handling date and time-related operations\n",
    "\n",
    "# Machine Learning (if needed for advanced analysis later)\n",
    "from sklearn.feature_extraction.text import CountVectorizer, TfidfVectorizer  \n",
    "from sklearn.decomposition import LatentDirichletAllocation                   \n",
    "\n"
   ]
  },
  {
   "cell_type": "code",
   "execution_count": 2,
   "metadata": {},
   "outputs": [
    {
     "data": {
      "text/html": [
       "<div>\n",
       "<style scoped>\n",
       "    .dataframe tbody tr th:only-of-type {\n",
       "        vertical-align: middle;\n",
       "    }\n",
       "\n",
       "    .dataframe tbody tr th {\n",
       "        vertical-align: top;\n",
       "    }\n",
       "\n",
       "    .dataframe thead th {\n",
       "        text-align: right;\n",
       "    }\n",
       "</style>\n",
       "<table border=\"1\" class=\"dataframe\">\n",
       "  <thead>\n",
       "    <tr style=\"text-align: right;\">\n",
       "      <th></th>\n",
       "      <th>Unnamed: 0</th>\n",
       "      <th>headline</th>\n",
       "      <th>url</th>\n",
       "      <th>publisher</th>\n",
       "      <th>date</th>\n",
       "      <th>stock</th>\n",
       "    </tr>\n",
       "  </thead>\n",
       "  <tbody>\n",
       "    <tr>\n",
       "      <th>0</th>\n",
       "      <td>0</td>\n",
       "      <td>Stocks That Hit 52-Week Highs On Friday</td>\n",
       "      <td>https://www.benzinga.com/news/20/06/16190091/s...</td>\n",
       "      <td>Benzinga Insights</td>\n",
       "      <td>2020-06-05 10:30:54-04:00</td>\n",
       "      <td>A</td>\n",
       "    </tr>\n",
       "    <tr>\n",
       "      <th>1</th>\n",
       "      <td>1</td>\n",
       "      <td>Stocks That Hit 52-Week Highs On Wednesday</td>\n",
       "      <td>https://www.benzinga.com/news/20/06/16170189/s...</td>\n",
       "      <td>Benzinga Insights</td>\n",
       "      <td>2020-06-03 10:45:20-04:00</td>\n",
       "      <td>A</td>\n",
       "    </tr>\n",
       "    <tr>\n",
       "      <th>2</th>\n",
       "      <td>2</td>\n",
       "      <td>71 Biggest Movers From Friday</td>\n",
       "      <td>https://www.benzinga.com/news/20/05/16103463/7...</td>\n",
       "      <td>Lisa Levin</td>\n",
       "      <td>2020-05-26 04:30:07-04:00</td>\n",
       "      <td>A</td>\n",
       "    </tr>\n",
       "    <tr>\n",
       "      <th>3</th>\n",
       "      <td>3</td>\n",
       "      <td>46 Stocks Moving In Friday's Mid-Day Session</td>\n",
       "      <td>https://www.benzinga.com/news/20/05/16095921/4...</td>\n",
       "      <td>Lisa Levin</td>\n",
       "      <td>2020-05-22 12:45:06-04:00</td>\n",
       "      <td>A</td>\n",
       "    </tr>\n",
       "    <tr>\n",
       "      <th>4</th>\n",
       "      <td>4</td>\n",
       "      <td>B of A Securities Maintains Neutral on Agilent...</td>\n",
       "      <td>https://www.benzinga.com/news/20/05/16095304/b...</td>\n",
       "      <td>Vick Meyer</td>\n",
       "      <td>2020-05-22 11:38:59-04:00</td>\n",
       "      <td>A</td>\n",
       "    </tr>\n",
       "  </tbody>\n",
       "</table>\n",
       "</div>"
      ],
      "text/plain": [
       "   Unnamed: 0                                           headline  \\\n",
       "0           0            Stocks That Hit 52-Week Highs On Friday   \n",
       "1           1         Stocks That Hit 52-Week Highs On Wednesday   \n",
       "2           2                      71 Biggest Movers From Friday   \n",
       "3           3       46 Stocks Moving In Friday's Mid-Day Session   \n",
       "4           4  B of A Securities Maintains Neutral on Agilent...   \n",
       "\n",
       "                                                 url          publisher  \\\n",
       "0  https://www.benzinga.com/news/20/06/16190091/s...  Benzinga Insights   \n",
       "1  https://www.benzinga.com/news/20/06/16170189/s...  Benzinga Insights   \n",
       "2  https://www.benzinga.com/news/20/05/16103463/7...         Lisa Levin   \n",
       "3  https://www.benzinga.com/news/20/05/16095921/4...         Lisa Levin   \n",
       "4  https://www.benzinga.com/news/20/05/16095304/b...         Vick Meyer   \n",
       "\n",
       "                        date stock  \n",
       "0  2020-06-05 10:30:54-04:00     A  \n",
       "1  2020-06-03 10:45:20-04:00     A  \n",
       "2  2020-05-26 04:30:07-04:00     A  \n",
       "3  2020-05-22 12:45:06-04:00     A  \n",
       "4  2020-05-22 11:38:59-04:00     A  "
      ]
     },
     "execution_count": 2,
     "metadata": {},
     "output_type": "execute_result"
    }
   ],
   "source": [
    "# loading the data \n",
    "\n",
    "stock_data_path = \"C:\\\\Users\\\\ibsan\\\\Desktop\\\\TenX\\\\week-1_dataset\\\\raw_analyst_ratings.csv\\\\raw_analyst_ratings.csv\"\n",
    "\n",
    "stock_df = pd.read_csv(stock_data_path)\n",
    "stock_df.head()\n"
   ]
  },
  {
   "cell_type": "code",
   "execution_count": 3,
   "metadata": {},
   "outputs": [
    {
     "name": "stdout",
     "output_type": "stream",
     "text": [
      "Dataset Info:\n",
      "<class 'pandas.core.frame.DataFrame'>\n",
      "RangeIndex: 1407328 entries, 0 to 1407327\n",
      "Data columns (total 6 columns):\n",
      " #   Column      Non-Null Count    Dtype \n",
      "---  ------      --------------    ----- \n",
      " 0   Unnamed: 0  1407328 non-null  int64 \n",
      " 1   headline    1407328 non-null  object\n",
      " 2   url         1407328 non-null  object\n",
      " 3   publisher   1407328 non-null  object\n",
      " 4   date        1407328 non-null  object\n",
      " 5   stock       1407328 non-null  object\n",
      "dtypes: int64(1), object(5)\n",
      "memory usage: 64.4+ MB\n",
      "None\n"
     ]
    }
   ],
   "source": [
    "# Displaying basic information about the data-set\n",
    "print(\"Dataset Info:\")\n",
    "print(stock_df.info())"
   ]
  },
  {
   "cell_type": "code",
   "execution_count": 4,
   "metadata": {},
   "outputs": [
    {
     "name": "stdout",
     "output_type": "stream",
     "text": [
      "First Five rows of the data\n",
      "   Unnamed: 0                                           headline  \\\n",
      "0           0            Stocks That Hit 52-Week Highs On Friday   \n",
      "1           1         Stocks That Hit 52-Week Highs On Wednesday   \n",
      "2           2                      71 Biggest Movers From Friday   \n",
      "3           3       46 Stocks Moving In Friday's Mid-Day Session   \n",
      "4           4  B of A Securities Maintains Neutral on Agilent...   \n",
      "\n",
      "                                                 url          publisher  \\\n",
      "0  https://www.benzinga.com/news/20/06/16190091/s...  Benzinga Insights   \n",
      "1  https://www.benzinga.com/news/20/06/16170189/s...  Benzinga Insights   \n",
      "2  https://www.benzinga.com/news/20/05/16103463/7...         Lisa Levin   \n",
      "3  https://www.benzinga.com/news/20/05/16095921/4...         Lisa Levin   \n",
      "4  https://www.benzinga.com/news/20/05/16095304/b...         Vick Meyer   \n",
      "\n",
      "                        date stock  \n",
      "0  2020-06-05 10:30:54-04:00     A  \n",
      "1  2020-06-03 10:45:20-04:00     A  \n",
      "2  2020-05-26 04:30:07-04:00     A  \n",
      "3  2020-05-22 12:45:06-04:00     A  \n",
      "4  2020-05-22 11:38:59-04:00     A  \n"
     ]
    }
   ],
   "source": [
    "# Display the first few rows \n",
    "print(\"First Five rows of the data\")\n",
    "print(stock_df.head(5))\n"
   ]
  },
  {
   "cell_type": "code",
   "execution_count": 5,
   "metadata": {},
   "outputs": [
    {
     "name": "stdout",
     "output_type": "stream",
     "text": [
      "\n",
      "Invalid Date Row:\n",
      "                                                  headline  \\\n",
      "10         30 Stocks Moving in Friday's Pre-Market Session   \n",
      "11       SVB Leerink Maintains Outperform on Agilent Te...   \n",
      "12       8 Stocks Moving In Thursday's After-Hours Session   \n",
      "13       Agilent Technologies shares are trading higher...   \n",
      "14       Agilent Technologies Q2 Adj. EPS $0.71 Beats $...   \n",
      "...                                                    ...   \n",
      "1407323             Top Narrow Based Indexes For August 29   \n",
      "1407324  Recap: Wednesday's Top Percentage Gainers and ...   \n",
      "1407325  UPDATE: Oppenheimer Color on China Zenix Auto ...   \n",
      "1407326  Oppenheimer Initiates China Zenix At Outperfor...   \n",
      "1407327  China Zenix Auto International Opens For Tradi...   \n",
      "\n",
      "                                                       url  \\\n",
      "10       https://www.benzinga.com/news/20/05/16092879/3...   \n",
      "11       https://www.benzinga.com/news/20/05/16092270/s...   \n",
      "12       https://www.benzinga.com/news/20/05/16089803/8...   \n",
      "13       https://www.benzinga.com/wiim/20/05/16089218/a...   \n",
      "14       https://www.benzinga.com/news/earnings/20/05/1...   \n",
      "...                                                    ...   \n",
      "1407323  https://www.benzinga.com/news/11/08/1888782/to...   \n",
      "1407324  https://www.benzinga.com/news/earnings/11/06/1...   \n",
      "1407325  https://www.benzinga.com/analyst-ratings/analy...   \n",
      "1407326  https://www.benzinga.com/analyst-ratings/price...   \n",
      "1407327  https://www.benzinga.com/news/ipos/11/05/10789...   \n",
      "\n",
      "                       publisher date stock  \n",
      "10                    Lisa Levin  NaT     A  \n",
      "11       vishwanath@benzinga.com  NaT     A  \n",
      "12                  Tyree Gorges  NaT     A  \n",
      "13             Benzinga Newsdesk  NaT     A  \n",
      "14             Benzinga Newsdesk  NaT     A  \n",
      "...                          ...  ...   ...  \n",
      "1407323            Monica Gerson  NaT    ZX  \n",
      "1407324             Benjamin Lee  NaT    ZX  \n",
      "1407325           BenzingaStaffL  NaT    ZX  \n",
      "1407326                Joe Young  NaT    ZX  \n",
      "1407327            Allie Wickman  NaT    ZX  \n",
      "\n",
      "[1351341 rows x 5 columns]\n"
     ]
    }
   ],
   "source": [
    "# Droping uneccesary columns \n",
    "stock_df_cleaned = stock_df.drop(columns=[\"Unnamed: 0\"])\n",
    "\n",
    "# Converting the 'date' column to a proper dataetime format \n",
    "stock_df_cleaned['date'] = pd.to_datetime(stock_df_cleaned['date'], errors='coerce')\n",
    "\n",
    "# Checking for invalid dates (those that couldn't be parsed)\n",
    "invalid_date_rows = stock_df_cleaned[stock_df_cleaned['date'].isna()]\n",
    "print(\"\\nInvalid Date Row:\")\n",
    "print(invalid_date_rows)\n",
    "\n",
    "# Removing rows with invalid dates \n",
    "stock_df_cleaned = stock_df_cleaned.dropna(subset=['date'])\n",
    "\n",
    "# Normalize datetime to remove timezone info\n",
    "stock_df_cleaned['date'] = stock_df_cleaned['date'].dt.tz_localize(None)\n",
    "\n",
    "# Add new column for headline lengths \n",
    "stock_df_cleaned['headline_length'] = stock_df_cleaned['headline'].apply(len)\n",
    "\n",
    "\n"
   ]
  },
  {
   "cell_type": "code",
   "execution_count": 6,
   "metadata": {},
   "outputs": [
    {
     "name": "stdout",
     "output_type": "stream",
     "text": [
      "\n",
      "Summary Statistics for Headline Lengths:\n",
      "count    55987.000000\n",
      "mean        80.015254\n",
      "std         56.126094\n",
      "min         12.000000\n",
      "25%         42.000000\n",
      "50%         63.000000\n",
      "75%         91.000000\n",
      "max        512.000000\n",
      "Name: headline_length, dtype: float64\n",
      "\n",
      "Top Publishers by Article Count:\n",
      "publisher\n",
      "Benzinga Newsdesk    14750\n",
      "Lisa Levin           12408\n",
      "ETF Professor         4362\n",
      "Paul Quintaro         4212\n",
      "Benzinga Newsdesk     3177\n",
      "Name: count, dtype: int64\n",
      "\n",
      "Article Counts Per Day (First 5 Days):\n",
      "date\n",
      "2011-04-27    1\n",
      "2011-04-28    2\n",
      "2011-04-29    2\n",
      "2011-04-30    1\n",
      "2011-05-01    1\n",
      "Name: count, dtype: int64\n"
     ]
    }
   ],
   "source": [
    "\n",
    "# Display summary statistics for headline lengths\n",
    "print(\"\\nSummary Statistics for Headline Lengths:\")\n",
    "print(stock_df_cleaned['headline_length'].describe())\n",
    "\n",
    "# Count articles by publisher\n",
    "publisher_counts = stock_df_cleaned['publisher'].value_counts()\n",
    "print(\"\\nTop Publishers by Article Count:\")\n",
    "print(publisher_counts.head())\n",
    "\n",
    "# Count articles per day\n",
    "daily_counts = stock_df_cleaned['date'].dt.date.value_counts().sort_index()\n",
    "print(\"\\nArticle Counts Per Day (First 5 Days):\")\n",
    "print(daily_counts.head())"
   ]
  },
  {
   "cell_type": "code",
   "execution_count": 7,
   "metadata": {},
   "outputs": [
    {
     "data": {
      "image/png": "[encoded data removed]",
      "text/plain": [
       "<Figure size 1000x600 with 1 Axes>"
      ]
     },
     "metadata": {},
     "output_type": "display_data"
    }
   ],
   "source": [
    "# Visualize headline length distribution\n",
    "plt.figure(figsize=(10, 6))\n",
    "plt.hist(stock_df_cleaned['headline_length'], bins=50, color='skyblue', edgecolor='black')\n",
    "plt.title('Distribution of Headline Lengths', fontsize=14)\n",
    "plt.xlabel('Headline Length', fontsize=12)\n",
    "plt.ylabel('Frequency', fontsize=12)\n",
    "plt.grid(axis='y', linestyle='--', alpha=0.7)\n",
    "plt.show()\n"
   ]
  },
  {
   "cell_type": "code",
   "execution_count": null,
   "metadata": {},
   "outputs": [],
   "source": []
  },
  {
   "cell_type": "code",
   "execution_count": null,
   "metadata": {},
   "outputs": [],
   "source": []
  },
  {
   "cell_type": "code",
   "execution_count": null,
   "metadata": {},
   "outputs": [],
   "source": []
  },
  {
   "cell_type": "code",
   "execution_count": null,
   "metadata": {},
   "outputs": [],
   "source": []
  }
 ],
 "metadata": {
  "kernelspec": {
   "display_name": "tf3_env",
   "language": "python",
   "name": "python3"
  },
  "language_info": {
   "codemirror_mode": {
    "name": "ipython",
    "version": 3
   },
   "file_extension": ".py",
   "mimetype": "text/x-python",
   "name": "python",
   "nbconvert_exporter": "python",
   "pygments_lexer": "ipython3",
   "version": "3.9.20"
  }
 },
 "nbformat": 4,
 "nbformat_minor": 2
}
