{
 "cells": [
  {
   "cell_type": "code",
   "execution_count": 3,
   "metadata": {},
   "outputs": [],
   "source": [
    "# Data Manipulation\n",
    "import pandas as pd  \n",
    "import numpy as np   \n",
    "\n",
    "# Data Visualization\n",
    "import matplotlib.pyplot as plt  \n",
    "import seaborn as sns            # For advanced and aesthetically pleasing visualizations\n",
    "\n",
    "# Text Analysis (Sentiment and NLP)\n",
    "from nltk.sentiment import SentimentIntensityAnalyzer  \n",
    "from textblob import TextBlob                          \n",
    "from wordcloud import WordCloud                       \n",
    "\n",
    "# Time-Series Analysis\n",
    "import datetime as dt  # For handling date and time-related operations\n",
    "\n",
    "# Machine Learning (if needed for advanced analysis later)\n",
    "from sklearn.feature_extraction.text import CountVectorizer, TfidfVectorizer  \n",
    "from sklearn.decomposition import LatentDirichletAllocation                   \n",
    "\n"
   ]
  },
  {
   "cell_type": "code",
   "execution_count": null,
   "metadata": {},
   "outputs": [],
   "source": [
    "# EDA for the stock data \n",
    "# Loading the data-set\n"
   ]
  },
  {
   "cell_type": "code",
   "execution_count": null,
   "metadata": {},
   "outputs": [],
   "source": []
  }
 ],
 "metadata": {
  "kernelspec": {
   "display_name": "tf3_env",
   "language": "python",
   "name": "python3"
  },
  "language_info": {
   "codemirror_mode": {
    "name": "ipython",
    "version": 3
   },
   "file_extension": ".py",
   "mimetype": "text/x-python",
   "name": "python",
   "nbconvert_exporter": "python",
   "pygments_lexer": "ipython3",
   "version": "3.9.20"
  }
 },
 "nbformat": 4,
 "nbformat_minor": 2
}
