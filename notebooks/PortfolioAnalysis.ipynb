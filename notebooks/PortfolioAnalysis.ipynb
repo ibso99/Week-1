{
 "cells": [
  {
   "cell_type": "code",
   "execution_count": 2,
   "metadata": {},
   "outputs": [],
   "source": [
    "from pynance import portfolio_optimizer as po"
   ]
  },
  {
   "cell_type": "code",
   "execution_count": 5,
   "metadata": {},
   "outputs": [
    {
     "name": "stderr",
     "output_type": "stream",
     "text": [
      "C:\\Users\\ibsan\\Desktop\\TenX\\week-1\\pynance\\pynance\\datasources\\data_retriever.py:19: FutureWarning: Series.__getitem__ treating keys as positions is deprecated. In a future version, integer keys will always be treated as labels (consistent with DataFrame behavior). To access a value by position, use `ser.iloc[pos]`\n",
      "  if adj_close_data[-1] == 0:\n",
      "C:\\Users\\ibsan\\Desktop\\TenX\\week-1\\pynance\\pynance\\datasources\\data_retriever.py:19: FutureWarning: Series.__getitem__ treating keys as positions is deprecated. In a future version, integer keys will always be treated as labels (consistent with DataFrame behavior). To access a value by position, use `ser.iloc[pos]`\n",
      "  if adj_close_data[-1] == 0:\n",
      "C:\\Users\\ibsan\\Desktop\\TenX\\week-1\\pynance\\pynance\\datasources\\data_retriever.py:19: FutureWarning: Series.__getitem__ treating keys as positions is deprecated. In a future version, integer keys will always be treated as labels (consistent with DataFrame behavior). To access a value by position, use `ser.iloc[pos]`\n",
      "  if adj_close_data[-1] == 0:\n",
      "C:\\Users\\ibsan\\Desktop\\TenX\\week-1\\pynance\\pynance\\datasources\\data_retriever.py:19: FutureWarning: Series.__getitem__ treating keys as positions is deprecated. In a future version, integer keys will always be treated as labels (consistent with DataFrame behavior). To access a value by position, use `ser.iloc[pos]`\n",
      "  if adj_close_data[-1] == 0:\n",
      "C:\\Users\\ibsan\\Desktop\\TenX\\week-1\\pynance\\pynance\\datasources\\data_retriever.py:19: FutureWarning: Series.__getitem__ treating keys as positions is deprecated. In a future version, integer keys will always be treated as labels (consistent with DataFrame behavior). To access a value by position, use `ser.iloc[pos]`\n",
      "  if adj_close_data[-1] == 0:\n",
      "C:\\Users\\ibsan\\Desktop\\TenX\\week-1\\pynance\\pynance\\datasources\\data_retriever.py:19: FutureWarning: Series.__getitem__ treating keys as positions is deprecated. In a future version, integer keys will always be treated as labels (consistent with DataFrame behavior). To access a value by position, use `ser.iloc[pos]`\n",
      "  if adj_close_data[-1] == 0:\n",
      "C:\\Users\\ibsan\\Desktop\\TenX\\week-1\\pynance\\pynance\\datasources\\data_retriever.py:19: FutureWarning: Series.__getitem__ treating keys as positions is deprecated. In a future version, integer keys will always be treated as labels (consistent with DataFrame behavior). To access a value by position, use `ser.iloc[pos]`\n",
      "  if adj_close_data[-1] == 0:\n"
     ]
    },
    {
     "name": "stdout",
     "output_type": "stream",
     "text": [
      "                   Max Sharpe Portfolio\n",
      "Expected Return                 109.99%\n",
      "Standard Deviation               48.40%\n"
     ]
    }
   ],
   "source": [
    "from pynance import portfolio_optimizer as po\n",
    "ticker_list = ['AAPL', 'GOOGL', 'MSFT', 'TSLA', 'NVDA', 'AMZN', 'META']\n",
    "portfolio = po.PortfolioCalculations(ticker_list)\n",
    "risk_return = portfolio.max_sharpe_portfolio('rr')\n",
    "print(risk_return)"
   ]
  },
  {
   "cell_type": "code",
   "execution_count": 6,
   "metadata": {},
   "outputs": [
    {
     "name": "stderr",
     "output_type": "stream",
     "text": [
      "C:\\Users\\ibsan\\Desktop\\TenX\\week-1\\pynance\\pynance\\datasources\\data_retriever.py:19: FutureWarning: Series.__getitem__ treating keys as positions is deprecated. In a future version, integer keys will always be treated as labels (consistent with DataFrame behavior). To access a value by position, use `ser.iloc[pos]`\n",
      "  if adj_close_data[-1] == 0:\n",
      "C:\\Users\\ibsan\\Desktop\\TenX\\week-1\\pynance\\pynance\\datasources\\data_retriever.py:19: FutureWarning: Series.__getitem__ treating keys as positions is deprecated. In a future version, integer keys will always be treated as labels (consistent with DataFrame behavior). To access a value by position, use `ser.iloc[pos]`\n",
      "  if adj_close_data[-1] == 0:\n",
      "C:\\Users\\ibsan\\Desktop\\TenX\\week-1\\pynance\\pynance\\datasources\\data_retriever.py:19: FutureWarning: Series.__getitem__ treating keys as positions is deprecated. In a future version, integer keys will always be treated as labels (consistent with DataFrame behavior). To access a value by position, use `ser.iloc[pos]`\n",
      "  if adj_close_data[-1] == 0:\n",
      "C:\\Users\\ibsan\\Desktop\\TenX\\week-1\\pynance\\pynance\\datasources\\data_retriever.py:19: FutureWarning: Series.__getitem__ treating keys as positions is deprecated. In a future version, integer keys will always be treated as labels (consistent with DataFrame behavior). To access a value by position, use `ser.iloc[pos]`\n",
      "  if adj_close_data[-1] == 0:\n",
      "C:\\Users\\ibsan\\Desktop\\TenX\\week-1\\pynance\\pynance\\datasources\\data_retriever.py:19: FutureWarning: Series.__getitem__ treating keys as positions is deprecated. In a future version, integer keys will always be treated as labels (consistent with DataFrame behavior). To access a value by position, use `ser.iloc[pos]`\n",
      "  if adj_close_data[-1] == 0:\n",
      "C:\\Users\\ibsan\\Desktop\\TenX\\week-1\\pynance\\pynance\\datasources\\data_retriever.py:19: FutureWarning: Series.__getitem__ treating keys as positions is deprecated. In a future version, integer keys will always be treated as labels (consistent with DataFrame behavior). To access a value by position, use `ser.iloc[pos]`\n",
      "  if adj_close_data[-1] == 0:\n",
      "C:\\Users\\ibsan\\Desktop\\TenX\\week-1\\pynance\\pynance\\datasources\\data_retriever.py:19: FutureWarning: Series.__getitem__ treating keys as positions is deprecated. In a future version, integer keys will always be treated as labels (consistent with DataFrame behavior). To access a value by position, use `ser.iloc[pos]`\n",
      "  if adj_close_data[-1] == 0:\n",
      "C:\\Users\\ibsan\\Desktop\\TenX\\week-1\\pynance\\pynance\\datasources\\data_retriever.py:19: FutureWarning: Series.__getitem__ treating keys as positions is deprecated. In a future version, integer keys will always be treated as labels (consistent with DataFrame behavior). To access a value by position, use `ser.iloc[pos]`\n",
      "  if adj_close_data[-1] == 0:\n",
      "C:\\Users\\ibsan\\Desktop\\TenX\\week-1\\pynance\\pynance\\datasources\\data_retriever.py:19: FutureWarning: Series.__getitem__ treating keys as positions is deprecated. In a future version, integer keys will always be treated as labels (consistent with DataFrame behavior). To access a value by position, use `ser.iloc[pos]`\n",
      "  if adj_close_data[-1] == 0:\n",
      "C:\\Users\\ibsan\\Desktop\\TenX\\week-1\\pynance\\pynance\\datasources\\data_retriever.py:19: FutureWarning: Series.__getitem__ treating keys as positions is deprecated. In a future version, integer keys will always be treated as labels (consistent with DataFrame behavior). To access a value by position, use `ser.iloc[pos]`\n",
      "  if adj_close_data[-1] == 0:\n",
      "C:\\Users\\ibsan\\Desktop\\TenX\\week-1\\pynance\\pynance\\datasources\\data_retriever.py:19: FutureWarning: Series.__getitem__ treating keys as positions is deprecated. In a future version, integer keys will always be treated as labels (consistent with DataFrame behavior). To access a value by position, use `ser.iloc[pos]`\n",
      "  if adj_close_data[-1] == 0:\n",
      "C:\\Users\\ibsan\\Desktop\\TenX\\week-1\\pynance\\pynance\\datasources\\data_retriever.py:19: FutureWarning: Series.__getitem__ treating keys as positions is deprecated. In a future version, integer keys will always be treated as labels (consistent with DataFrame behavior). To access a value by position, use `ser.iloc[pos]`\n",
      "  if adj_close_data[-1] == 0:\n",
      "C:\\Users\\ibsan\\Desktop\\TenX\\week-1\\pynance\\pynance\\datasources\\data_retriever.py:19: FutureWarning: Series.__getitem__ treating keys as positions is deprecated. In a future version, integer keys will always be treated as labels (consistent with DataFrame behavior). To access a value by position, use `ser.iloc[pos]`\n",
      "  if adj_close_data[-1] == 0:\n",
      "C:\\Users\\ibsan\\Desktop\\TenX\\week-1\\pynance\\pynance\\datasources\\data_retriever.py:19: FutureWarning: Series.__getitem__ treating keys as positions is deprecated. In a future version, integer keys will always be treated as labels (consistent with DataFrame behavior). To access a value by position, use `ser.iloc[pos]`\n",
      "  if adj_close_data[-1] == 0:\n"
     ]
    },
    {
     "name": "stdout",
     "output_type": "stream",
     "text": [
      "    Expected Return  Standard Deviation          AAPL         GOOGL  \\\n",
      "0            0.2493              0.3328  1.085976e-18  1.635628e-18   \n",
      "1            0.2507              0.3214  9.714451e-16  0.000000e+00   \n",
      "2            0.2522              0.2970  0.000000e+00  0.000000e+00   \n",
      "3            0.2537              0.2751  2.775558e-17  0.000000e+00   \n",
      "4            0.2552              0.2562  0.000000e+00  1.474515e-16   \n",
      "5            0.2566              0.2412  3.485909e-17  0.000000e+00   \n",
      "6            0.2581              0.2307  0.000000e+00  0.000000e+00   \n",
      "7            0.2596              0.2252  0.000000e+00  1.645602e-02   \n",
      "8            0.2611              0.2221  0.000000e+00  8.706660e-02   \n",
      "9            0.2626              0.2201  1.297781e-17  1.595515e-01   \n",
      "10           0.2641              0.2195  1.190638e-02  2.058965e-01   \n",
      "11           0.2656              0.2193  3.288610e-02  2.092997e-01   \n",
      "12           0.2670              0.2191  5.422688e-02  2.109942e-01   \n",
      "13           0.2685              0.2190  7.556627e-02  2.126953e-01   \n",
      "14           0.2700              0.2191  9.686777e-02  2.145756e-01   \n",
      "15           0.2715              0.2192  1.192292e-01  2.114395e-01   \n",
      "16           0.2730              0.2194  1.404161e-01  2.127661e-01   \n",
      "17           0.2745              0.2197  1.337228e-01  2.133077e-01   \n",
      "18           0.2760              0.2199  1.389348e-01  2.122117e-01   \n",
      "19           0.2775              0.2202  1.493288e-01  2.064400e-01   \n",
      "\n",
      "            MSFT          TSLA          NVDA          AMZN          META  \n",
      "0   2.111589e-10  6.352697e-24  8.501038e-18  1.000000e+00  1.499733e-18  \n",
      "1   6.424136e-02  5.995204e-15  0.000000e+00  9.357586e-01  0.000000e+00  \n",
      "2   2.094023e-01  9.436896e-15  0.000000e+00  7.905977e-01  0.000000e+00  \n",
      "3   3.545632e-01  2.275957e-15  0.000000e+00  6.454368e-01  0.000000e+00  \n",
      "4   4.997245e-01  0.000000e+00  2.925387e-16  5.002755e-01  5.843429e-17  \n",
      "5   6.448854e-01  0.000000e+00  1.140131e-16  3.551146e-01  0.000000e+00  \n",
      "6   7.900463e-01  0.000000e+00  3.482336e-17  2.099537e-01  1.200569e-17  \n",
      "7   8.954903e-01  1.136167e-16  0.000000e+00  8.805367e-02  0.000000e+00  \n",
      "8   8.702313e-01  1.857698e-17  0.000000e+00  4.270208e-02  0.000000e+00  \n",
      "9   8.404485e-01  8.667264e-18  0.000000e+00  0.000000e+00  1.161496e-17  \n",
      "10  7.821972e-01  0.000000e+00  3.209238e-17  0.000000e+00  6.722053e-18  \n",
      "11  7.578142e-01  1.062518e-17  0.000000e+00  3.686287e-17  2.168404e-19  \n",
      "12  7.347789e-01  1.908196e-17  0.000000e+00  9.757820e-19  0.000000e+00  \n",
      "13  7.117385e-01  0.000000e+00  5.204170e-18  0.000000e+00  0.000000e+00  \n",
      "14  6.885566e-01  1.561251e-17  0.000000e+00  3.203817e-17  0.000000e+00  \n",
      "15  6.693312e-01  2.927346e-18  5.204170e-18  0.000000e+00  1.084202e-19  \n",
      "16  6.467939e-01  0.000000e+00  2.386559e-05  2.894820e-17  4.391019e-18  \n",
      "17  6.500322e-01  6.288373e-18  2.937296e-03  5.854692e-17  6.938894e-18  \n",
      "18  6.441937e-01  0.000000e+00  4.659782e-03  1.723881e-17  0.000000e+00  \n",
      "19  6.382810e-01  4.336809e-19  5.950155e-03  0.000000e+00  4.770490e-18  \n"
     ]
    },
    {
     "data": {
      "application/vnd.plotly.v1+json": {
       "config": {
        "plotlyServerURL": "https://plot.ly"
       },
       "data": [
        {
         "customdata": [
          [
           "AMZN: 100.0%",
           "MSFT: 0.0%",
           "NVDA: 0.0%"
          ],
          [
           "AMZN: 93.58%",
           "MSFT: 6.42%",
           "TSLA: 0.0%"
          ],
          [
           "AMZN: 79.06%",
           "MSFT: 20.94%",
           "TSLA: 0.0%"
          ],
          [
           "AMZN: 64.54%",
           "MSFT: 35.46%",
           "TSLA: 0.0%"
          ],
          [
           "AMZN: 50.03%",
           "MSFT: 49.97%",
           "NVDA: 0.0%"
          ],
          [
           "MSFT: 64.49%",
           "AMZN: 35.51%",
           "NVDA: 0.0%"
          ],
          [
           "MSFT: 79.0%",
           "AMZN: 21.0%",
           "NVDA: 0.0%"
          ],
          [
           "MSFT: 89.55%",
           "AMZN: 8.81%",
           "GOOGL: 1.65%"
          ],
          [
           "MSFT: 87.02%",
           "GOOGL: 8.71%",
           "AMZN: 4.27%"
          ],
          [
           "MSFT: 84.04%",
           "GOOGL: 15.96%",
           "AAPL: 0.0%"
          ],
          [
           "MSFT: 78.22%",
           "GOOGL: 20.59%",
           "AAPL: 1.19%"
          ],
          [
           "MSFT: 75.78%",
           "GOOGL: 20.93%",
           "AAPL: 3.29%"
          ],
          [
           "MSFT: 73.48%",
           "GOOGL: 21.1%",
           "AAPL: 5.42%"
          ],
          [
           "MSFT: 71.17%",
           "GOOGL: 21.27%",
           "AAPL: 7.56%"
          ],
          [
           "MSFT: 68.86%",
           "GOOGL: 21.46%",
           "AAPL: 9.69%"
          ],
          [
           "MSFT: 66.93%",
           "GOOGL: 21.14%",
           "AAPL: 11.92%"
          ],
          [
           "MSFT: 64.68%",
           "GOOGL: 21.28%",
           "AAPL: 14.04%"
          ],
          [
           "MSFT: 65.0%",
           "GOOGL: 21.33%",
           "AAPL: 13.37%"
          ],
          [
           "MSFT: 64.42%",
           "GOOGL: 21.22%",
           "AAPL: 13.89%"
          ],
          [
           "MSFT: 63.83%",
           "GOOGL: 20.64%",
           "AAPL: 14.93%"
          ],
          [
           "MSFT: 63.97%",
           "GOOGL: 20.54%",
           "AAPL: 14.64%"
          ],
          [
           "MSFT: 63.6%",
           "GOOGL: 20.72%",
           "AAPL: 14.61%"
          ],
          [
           "MSFT: 63.61%",
           "GOOGL: 20.78%",
           "AAPL: 14.28%"
          ],
          [
           "MSFT: 63.73%",
           "GOOGL: 20.65%",
           "AAPL: 14.04%"
          ],
          [
           "MSFT: 63.64%",
           "GOOGL: 20.64%",
           "AAPL: 13.9%"
          ],
          [
           "MSFT: 63.54%",
           "GOOGL: 20.65%",
           "AAPL: 13.74%"
          ],
          [
           "MSFT: 62.96%",
           "GOOGL: 20.94%",
           "AAPL: 13.84%"
          ],
          [
           "MSFT: 62.74%",
           "GOOGL: 21.04%",
           "AAPL: 13.71%"
          ],
          [
           "MSFT: 62.5%",
           "GOOGL: 21.18%",
           "AAPL: 13.59%"
          ],
          [
           "MSFT: 62.22%",
           "GOOGL: 21.34%",
           "AAPL: 13.47%"
          ],
          [
           "MSFT: 61.97%",
           "GOOGL: 21.37%",
           "AAPL: 13.47%"
          ],
          [
           "MSFT: 61.75%",
           "GOOGL: 21.32%",
           "AAPL: 13.52%"
          ],
          [
           "MSFT: 61.53%",
           "GOOGL: 21.27%",
           "AAPL: 13.57%"
          ],
          [
           "MSFT: 61.31%",
           "GOOGL: 21.22%",
           "AAPL: 13.63%"
          ],
          [
           "MSFT: 61.08%",
           "GOOGL: 21.17%",
           "AAPL: 13.68%"
          ],
          [
           "MSFT: 60.86%",
           "GOOGL: 21.12%",
           "AAPL: 13.73%"
          ],
          [
           "MSFT: 60.64%",
           "GOOGL: 21.07%",
           "AAPL: 13.78%"
          ],
          [
           "MSFT: 60.75%",
           "GOOGL: 20.91%",
           "AAPL: 13.59%"
          ],
          [
           "MSFT: 60.5%",
           "GOOGL: 20.88%",
           "AAPL: 13.66%"
          ],
          [
           "MSFT: 60.25%",
           "GOOGL: 20.84%",
           "AAPL: 13.72%"
          ],
          [
           "MSFT: 60.0%",
           "GOOGL: 20.81%",
           "AAPL: 13.79%"
          ],
          [
           "MSFT: 59.75%",
           "GOOGL: 20.77%",
           "AAPL: 13.86%"
          ],
          [
           "MSFT: 59.51%",
           "GOOGL: 20.73%",
           "AAPL: 13.92%"
          ],
          [
           "MSFT: 59.26%",
           "GOOGL: 20.69%",
           "AAPL: 13.99%"
          ],
          [
           "MSFT: 59.02%",
           "GOOGL: 20.65%",
           "AAPL: 14.05%"
          ],
          [
           "MSFT: 58.78%",
           "GOOGL: 20.61%",
           "AAPL: 14.11%"
          ],
          [
           "MSFT: 58.55%",
           "GOOGL: 20.57%",
           "AAPL: 14.17%"
          ],
          [
           "MSFT: 58.31%",
           "GOOGL: 20.53%",
           "AAPL: 14.23%"
          ],
          [
           "MSFT: 58.08%",
           "GOOGL: 20.49%",
           "AAPL: 14.28%"
          ],
          [
           "MSFT: 57.85%",
           "GOOGL: 20.44%",
           "AAPL: 14.33%"
          ],
          [
           "MSFT: 57.63%",
           "GOOGL: 20.4%",
           "AAPL: 14.38%"
          ],
          [
           "MSFT: 57.41%",
           "GOOGL: 20.35%",
           "AAPL: 14.43%"
          ],
          [
           "MSFT: 57.19%",
           "GOOGL: 20.31%",
           "AAPL: 14.48%"
          ],
          [
           "MSFT: 57.02%",
           "GOOGL: 20.26%",
           "AAPL: 14.43%"
          ],
          [
           "MSFT: 56.83%",
           "GOOGL: 20.21%",
           "AAPL: 14.49%"
          ],
          [
           "MSFT: 56.59%",
           "GOOGL: 20.16%",
           "AAPL: 14.55%"
          ],
          [
           "MSFT: 56.36%",
           "GOOGL: 20.11%",
           "AAPL: 14.62%"
          ],
          [
           "MSFT: 56.11%",
           "GOOGL: 20.1%",
           "AAPL: 14.65%"
          ],
          [
           "MSFT: 55.96%",
           "GOOGL: 20.01%",
           "AAPL: 14.67%"
          ],
          [
           "MSFT: 55.76%",
           "GOOGL: 19.93%",
           "AAPL: 14.74%"
          ],
          [
           "MSFT: 55.56%",
           "GOOGL: 19.85%",
           "AAPL: 14.79%"
          ],
          [
           "MSFT: 55.37%",
           "GOOGL: 19.77%",
           "AAPL: 14.85%"
          ],
          [
           "MSFT: 55.18%",
           "GOOGL: 19.66%",
           "AAPL: 14.92%"
          ],
          [
           "MSFT: 55.0%",
           "GOOGL: 19.55%",
           "AAPL: 15.0%"
          ],
          [
           "MSFT: 54.83%",
           "GOOGL: 19.43%",
           "AAPL: 15.07%"
          ],
          [
           "MSFT: 54.66%",
           "GOOGL: 19.3%",
           "AAPL: 15.15%"
          ],
          [
           "MSFT: 54.48%",
           "GOOGL: 19.18%",
           "AAPL: 15.24%"
          ],
          [
           "MSFT: 54.17%",
           "GOOGL: 19.1%",
           "AAPL: 15.42%"
          ],
          [
           "MSFT: 53.99%",
           "GOOGL: 18.97%",
           "AAPL: 15.51%"
          ],
          [
           "MSFT: 53.82%",
           "GOOGL: 18.85%",
           "AAPL: 15.59%"
          ],
          [
           "MSFT: 53.63%",
           "GOOGL: 18.73%",
           "AAPL: 15.67%"
          ],
          [
           "MSFT: 53.46%",
           "GOOGL: 18.61%",
           "AAPL: 15.75%"
          ],
          [
           "MSFT: 53.25%",
           "GOOGL: 18.52%",
           "AAPL: 15.83%"
          ],
          [
           "MSFT: 53.07%",
           "GOOGL: 18.41%",
           "AAPL: 15.9%"
          ],
          [
           "MSFT: 52.85%",
           "GOOGL: 18.34%",
           "AAPL: 15.98%"
          ],
          [
           "MSFT: 52.65%",
           "GOOGL: 18.28%",
           "AAPL: 16.01%"
          ],
          [
           "MSFT: 52.43%",
           "GOOGL: 18.16%",
           "AAPL: 16.14%"
          ],
          [
           "MSFT: 52.22%",
           "GOOGL: 18.11%",
           "AAPL: 16.17%"
          ],
          [
           "MSFT: 52.01%",
           "GOOGL: 18.03%",
           "AAPL: 16.25%"
          ],
          [
           "MSFT: 51.8%",
           "GOOGL: 17.95%",
           "AAPL: 16.32%"
          ],
          [
           "MSFT: 51.59%",
           "GOOGL: 17.87%",
           "AAPL: 16.4%"
          ],
          [
           "MSFT: 51.38%",
           "GOOGL: 17.78%",
           "AAPL: 16.48%"
          ],
          [
           "MSFT: 51.16%",
           "GOOGL: 17.7%",
           "AAPL: 16.56%"
          ],
          [
           "MSFT: 50.95%",
           "GOOGL: 17.61%",
           "AAPL: 16.65%"
          ],
          [
           "MSFT: 50.73%",
           "GOOGL: 17.53%",
           "AAPL: 16.73%"
          ],
          [
           "MSFT: 50.51%",
           "GOOGL: 17.44%",
           "AAPL: 16.82%"
          ],
          [
           "MSFT: 50.3%",
           "GOOGL: 17.35%",
           "AAPL: 16.91%"
          ],
          [
           "MSFT: 50.08%",
           "GOOGL: 17.27%",
           "AAPL: 16.99%"
          ],
          [
           "MSFT: 49.79%",
           "GOOGL: 17.26%",
           "AAPL: 17.08%"
          ],
          [
           "MSFT: 49.57%",
           "GOOGL: 17.19%",
           "AAPL: 17.15%"
          ],
          [
           "MSFT: 49.35%",
           "AAPL: 17.22%",
           "GOOGL: 17.12%"
          ],
          [
           "MSFT: 49.13%",
           "AAPL: 17.3%",
           "GOOGL: 17.04%"
          ],
          [
           "MSFT: 48.89%",
           "AAPL: 17.43%",
           "GOOGL: 16.94%"
          ],
          [
           "MSFT: 48.71%",
           "AAPL: 17.54%",
           "NVDA: 16.95%"
          ],
          [
           "MSFT: 48.49%",
           "AAPL: 17.61%",
           "NVDA: 17.17%"
          ],
          [
           "MSFT: 48.13%",
           "AAPL: 17.73%",
           "NVDA: 17.38%"
          ],
          [
           "MSFT: 48.0%",
           "AAPL: 17.72%",
           "NVDA: 17.61%"
          ],
          [
           "MSFT: 47.78%",
           "NVDA: 17.83%",
           "AAPL: 17.79%"
          ],
          [
           "MSFT: 47.55%",
           "NVDA: 18.04%",
           "AAPL: 17.86%"
          ],
          [
           "MSFT: 47.33%",
           "NVDA: 18.26%",
           "AAPL: 17.92%"
          ],
          [
           "MSFT: 47.11%",
           "NVDA: 18.48%",
           "AAPL: 17.99%"
          ],
          [
           "MSFT: 46.88%",
           "NVDA: 18.7%",
           "AAPL: 18.05%"
          ],
          [
           "MSFT: 46.66%",
           "NVDA: 18.92%",
           "AAPL: 18.12%"
          ],
          [
           "MSFT: 46.43%",
           "NVDA: 19.13%",
           "AAPL: 18.19%"
          ],
          [
           "MSFT: 46.21%",
           "NVDA: 19.35%",
           "AAPL: 18.25%"
          ],
          [
           "MSFT: 45.98%",
           "NVDA: 19.57%",
           "AAPL: 18.32%"
          ],
          [
           "MSFT: 45.76%",
           "NVDA: 19.79%",
           "AAPL: 18.38%"
          ],
          [
           "MSFT: 45.53%",
           "NVDA: 20.01%",
           "AAPL: 18.45%"
          ],
          [
           "MSFT: 45.3%",
           "NVDA: 20.23%",
           "AAPL: 18.51%"
          ],
          [
           "MSFT: 45.08%",
           "NVDA: 20.44%",
           "AAPL: 18.58%"
          ],
          [
           "MSFT: 44.85%",
           "NVDA: 20.66%",
           "AAPL: 18.64%"
          ],
          [
           "MSFT: 44.62%",
           "NVDA: 20.88%",
           "AAPL: 18.71%"
          ],
          [
           "MSFT: 44.39%",
           "NVDA: 21.1%",
           "AAPL: 18.77%"
          ],
          [
           "MSFT: 44.16%",
           "NVDA: 21.32%",
           "AAPL: 18.84%"
          ],
          [
           "MSFT: 43.93%",
           "NVDA: 21.53%",
           "AAPL: 18.9%"
          ],
          [
           "MSFT: 43.7%",
           "NVDA: 21.75%",
           "AAPL: 18.97%"
          ],
          [
           "MSFT: 43.47%",
           "NVDA: 21.97%",
           "AAPL: 19.03%"
          ],
          [
           "MSFT: 43.24%",
           "NVDA: 22.19%",
           "AAPL: 19.1%"
          ],
          [
           "MSFT: 43.01%",
           "NVDA: 22.41%",
           "AAPL: 19.17%"
          ],
          [
           "MSFT: 42.77%",
           "NVDA: 22.62%",
           "AAPL: 19.23%"
          ],
          [
           "MSFT: 42.54%",
           "NVDA: 22.84%",
           "AAPL: 19.3%"
          ],
          [
           "MSFT: 42.31%",
           "NVDA: 23.06%",
           "AAPL: 19.36%"
          ],
          [
           "MSFT: 42.07%",
           "NVDA: 23.28%",
           "AAPL: 19.43%"
          ],
          [
           "MSFT: 41.84%",
           "NVDA: 23.49%",
           "AAPL: 19.5%"
          ],
          [
           "MSFT: 41.6%",
           "NVDA: 23.71%",
           "AAPL: 19.56%"
          ],
          [
           "MSFT: 41.36%",
           "NVDA: 23.93%",
           "AAPL: 19.63%"
          ],
          [
           "MSFT: 41.13%",
           "NVDA: 24.15%",
           "AAPL: 19.7%"
          ],
          [
           "MSFT: 40.89%",
           "NVDA: 24.37%",
           "AAPL: 19.76%"
          ],
          [
           "MSFT: 40.65%",
           "NVDA: 24.58%",
           "AAPL: 19.83%"
          ],
          [
           "MSFT: 40.41%",
           "NVDA: 24.8%",
           "AAPL: 19.9%"
          ],
          [
           "MSFT: 40.17%",
           "NVDA: 25.02%",
           "AAPL: 19.97%"
          ],
          [
           "MSFT: 39.92%",
           "NVDA: 25.23%",
           "AAPL: 20.04%"
          ],
          [
           "MSFT: 39.67%",
           "NVDA: 25.45%",
           "AAPL: 20.12%"
          ],
          [
           "MSFT: 39.38%",
           "NVDA: 25.66%",
           "AAPL: 20.25%"
          ],
          [
           "MSFT: 39.25%",
           "NVDA: 25.89%",
           "AAPL: 20.18%"
          ],
          [
           "MSFT: 39.0%",
           "NVDA: 26.11%",
           "AAPL: 20.25%"
          ],
          [
           "MSFT: 38.8%",
           "NVDA: 26.33%",
           "AAPL: 20.28%"
          ],
          [
           "MSFT: 38.58%",
           "NVDA: 26.55%",
           "AAPL: 20.32%"
          ],
          [
           "MSFT: 38.42%",
           "NVDA: 26.78%",
           "AAPL: 20.32%"
          ],
          [
           "MSFT: 38.24%",
           "NVDA: 27.0%",
           "AAPL: 20.32%"
          ],
          [
           "MSFT: 38.0%",
           "NVDA: 27.22%",
           "AAPL: 20.38%"
          ],
          [
           "MSFT: 37.73%",
           "NVDA: 27.44%",
           "AAPL: 20.47%"
          ],
          [
           "MSFT: 37.46%",
           "NVDA: 27.65%",
           "AAPL: 20.56%"
          ],
          [
           "MSFT: 37.19%",
           "NVDA: 27.87%",
           "AAPL: 20.65%"
          ],
          [
           "MSFT: 36.91%",
           "NVDA: 28.08%",
           "AAPL: 20.73%"
          ],
          [
           "MSFT: 36.64%",
           "NVDA: 28.3%",
           "AAPL: 20.81%"
          ],
          [
           "MSFT: 36.38%",
           "NVDA: 28.51%",
           "AAPL: 20.88%"
          ],
          [
           "MSFT: 36.17%",
           "NVDA: 28.74%",
           "AAPL: 20.9%"
          ],
          [
           "MSFT: 36.1%",
           "NVDA: 28.97%",
           "AAPL: 20.77%"
          ],
          [
           "MSFT: 35.93%",
           "NVDA: 29.2%",
           "AAPL: 20.75%"
          ],
          [
           "MSFT: 35.67%",
           "NVDA: 29.42%",
           "AAPL: 20.83%"
          ],
          [
           "MSFT: 35.41%",
           "NVDA: 29.63%",
           "AAPL: 20.9%"
          ],
          [
           "MSFT: 35.57%",
           "NVDA: 29.87%",
           "AAPL: 20.75%"
          ],
          [
           "MSFT: 35.16%",
           "NVDA: 30.04%",
           "AAPL: 20.79%"
          ],
          [
           "MSFT: 35.03%",
           "NVDA: 30.22%",
           "AAPL: 20.76%"
          ],
          [
           "MSFT: 34.87%",
           "NVDA: 30.4%",
           "AAPL: 20.74%"
          ],
          [
           "MSFT: 34.51%",
           "NVDA: 30.58%",
           "AAPL: 20.85%"
          ],
          [
           "MSFT: 34.13%",
           "NVDA: 30.76%",
           "AAPL: 21.02%"
          ],
          [
           "MSFT: 36.45%",
           "NVDA: 30.79%",
           "AAPL: 18.02%"
          ],
          [
           "MSFT: 33.78%",
           "NVDA: 31.14%",
           "AAPL: 21.01%"
          ],
          [
           "MSFT: 36.03%",
           "NVDA: 31.06%",
           "AAPL: 17.95%"
          ],
          [
           "MSFT: 35.9%",
           "NVDA: 31.31%",
           "AAPL: 17.85%"
          ],
          [
           "MSFT: 35.73%",
           "NVDA: 31.47%",
           "AAPL: 17.8%"
          ],
          [
           "MSFT: 35.45%",
           "NVDA: 31.58%",
           "AAPL: 17.82%"
          ],
          [
           "MSFT: 35.29%",
           "NVDA: 31.74%",
           "AAPL: 17.81%"
          ],
          [
           "MSFT: 35.2%",
           "NVDA: 31.92%",
           "AAPL: 17.76%"
          ],
          [
           "MSFT: 33.18%",
           "NVDA: 32.28%",
           "AAPL: 20.35%"
          ],
          [
           "MSFT: 35.04%",
           "NVDA: 32.38%",
           "AAPL: 17.52%"
          ],
          [
           "MSFT: 34.89%",
           "NVDA: 32.55%",
           "AAPL: 17.47%"
          ],
          [
           "MSFT: 34.75%",
           "NVDA: 32.72%",
           "AAPL: 17.41%"
          ],
          [
           "MSFT: 34.62%",
           "NVDA: 32.9%",
           "AAPL: 17.36%"
          ],
          [
           "MSFT: 34.49%",
           "NVDA: 33.08%",
           "AAPL: 17.3%"
          ],
          [
           "MSFT: 34.36%",
           "NVDA: 33.26%",
           "AAPL: 17.25%"
          ],
          [
           "MSFT: 34.25%",
           "NVDA: 33.44%",
           "AAPL: 17.19%"
          ],
          [
           "NVDA: 33.71%",
           "MSFT: 32.21%",
           "AAPL: 19.88%"
          ],
          [
           "NVDA: 33.91%",
           "MSFT: 32.08%",
           "AAPL: 19.88%"
          ],
          [
           "MSFT: 33.94%",
           "NVDA: 33.88%",
           "AAPL: 17.12%"
          ],
          [
           "NVDA: 34.15%",
           "MSFT: 33.82%",
           "AAPL: 16.97%"
          ],
          [
           "NVDA: 34.4%",
           "MSFT: 31.82%",
           "AAPL: 19.59%"
          ],
          [
           "NVDA: 34.59%",
           "MSFT: 31.68%",
           "AAPL: 19.54%"
          ],
          [
           "NVDA: 34.84%",
           "MSFT: 31.51%",
           "AAPL: 19.59%"
          ],
          [
           "NVDA: 35.02%",
           "MSFT: 31.39%",
           "AAPL: 19.53%"
          ],
          [
           "NVDA: 35.2%",
           "MSFT: 31.25%",
           "AAPL: 19.47%"
          ],
          [
           "NVDA: 35.37%",
           "MSFT: 31.12%",
           "AAPL: 19.41%"
          ],
          [
           "NVDA: 35.47%",
           "MSFT: 31.05%",
           "AAPL: 19.23%"
          ],
          [
           "NVDA: 35.64%",
           "MSFT: 30.94%",
           "AAPL: 19.16%"
          ],
          [
           "NVDA: 35.81%",
           "MSFT: 30.8%",
           "AAPL: 19.11%"
          ],
          [
           "NVDA: 36.07%",
           "MSFT: 30.58%",
           "AAPL: 19.19%"
          ],
          [
           "NVDA: 36.28%",
           "MSFT: 30.48%",
           "AAPL: 19.14%"
          ],
          [
           "NVDA: 36.27%",
           "MSFT: 32.18%",
           "AAPL: 16.31%"
          ],
          [
           "NVDA: 36.44%",
           "MSFT: 32.03%",
           "AAPL: 16.26%"
          ],
          [
           "NVDA: 36.69%",
           "MSFT: 30.1%",
           "AAPL: 18.76%"
          ],
          [
           "NVDA: 36.87%",
           "MSFT: 29.98%",
           "AAPL: 18.7%"
          ],
          [
           "NVDA: 36.98%",
           "MSFT: 31.65%",
           "AAPL: 16.09%"
          ],
          [
           "NVDA: 37.16%",
           "MSFT: 31.52%",
           "AAPL: 16.04%"
          ],
          [
           "NVDA: 37.33%",
           "MSFT: 31.39%",
           "AAPL: 15.98%"
          ],
          [
           "NVDA: 37.65%",
           "MSFT: 29.49%",
           "AAPL: 18.58%"
          ],
          [
           "NVDA: 37.82%",
           "MSFT: 29.36%",
           "AAPL: 18.51%"
          ],
          [
           "NVDA: 38.06%",
           "MSFT: 29.22%",
           "AAPL: 18.51%"
          ],
          [
           "NVDA: 38.22%",
           "MSFT: 29.08%",
           "AAPL: 18.44%"
          ],
          [
           "NVDA: 38.39%",
           "MSFT: 28.95%",
           "AAPL: 18.37%"
          ],
          [
           "NVDA: 38.57%",
           "MSFT: 28.84%",
           "AAPL: 18.31%"
          ],
          [
           "NVDA: 38.76%",
           "MSFT: 28.72%",
           "AAPL: 18.25%"
          ],
          [
           "NVDA: 38.94%",
           "MSFT: 28.61%",
           "AAPL: 18.19%"
          ],
          [
           "NVDA: 39.13%",
           "MSFT: 28.51%",
           "AAPL: 18.12%"
          ],
          [
           "NVDA: 39.33%",
           "MSFT: 28.4%",
           "AAPL: 18.06%"
          ],
          [
           "NVDA: 39.42%",
           "MSFT: 28.23%",
           "AAPL: 17.93%"
          ],
          [
           "NVDA: 39.59%",
           "MSFT: 28.1%",
           "AAPL: 17.86%"
          ],
          [
           "NVDA: 39.77%",
           "MSFT: 27.97%",
           "AAPL: 17.8%"
          ],
          [
           "NVDA: 39.95%",
           "MSFT: 27.84%",
           "AAPL: 17.74%"
          ],
          [
           "NVDA: 40.12%",
           "MSFT: 27.71%",
           "AAPL: 17.68%"
          ],
          [
           "NVDA: 40.38%",
           "MSFT: 27.64%",
           "AAPL: 17.69%"
          ],
          [
           "NVDA: 40.53%",
           "MSFT: 27.49%",
           "AAPL: 17.62%"
          ],
          [
           "NVDA: 40.68%",
           "MSFT: 27.32%",
           "AAPL: 17.56%"
          ],
          [
           "NVDA: 40.84%",
           "MSFT: 27.17%",
           "AAPL: 17.49%"
          ],
          [
           "NVDA: 41.04%",
           "MSFT: 26.99%",
           "AAPL: 17.49%"
          ],
          [
           "NVDA: 41.35%",
           "MSFT: 26.57%",
           "AAPL: 17.56%"
          ],
          [
           "NVDA: 41.41%",
           "MSFT: 26.5%",
           "AAPL: 17.5%"
          ],
          [
           "NVDA: 41.47%",
           "MSFT: 26.29%",
           "AAPL: 17.46%"
          ],
          [
           "NVDA: 41.69%",
           "MSFT: 26.46%",
           "AAPL: 17.31%"
          ],
          [
           "NVDA: 41.98%",
           "MSFT: 26.4%",
           "AAPL: 17.1%"
          ],
          [
           "NVDA: 42.14%",
           "MSFT: 26.29%",
           "AAPL: 17.05%"
          ],
          [
           "NVDA: 42.29%",
           "MSFT: 26.2%",
           "AAPL: 17.0%"
          ],
          [
           "NVDA: 42.45%",
           "MSFT: 26.1%",
           "AAPL: 16.94%"
          ],
          [
           "NVDA: 42.6%",
           "MSFT: 25.99%",
           "AAPL: 16.88%"
          ],
          [
           "NVDA: 42.76%",
           "MSFT: 25.87%",
           "AAPL: 16.83%"
          ],
          [
           "NVDA: 43.03%",
           "MSFT: 25.7%",
           "AAPL: 16.68%"
          ],
          [
           "NVDA: 43.2%",
           "MSFT: 25.58%",
           "AAPL: 16.62%"
          ],
          [
           "NVDA: 43.38%",
           "MSFT: 25.45%",
           "AAPL: 16.55%"
          ],
          [
           "NVDA: 43.55%",
           "MSFT: 25.33%",
           "AAPL: 16.49%"
          ],
          [
           "NVDA: 43.73%",
           "MSFT: 25.2%",
           "AAPL: 16.43%"
          ],
          [
           "NVDA: 43.9%",
           "MSFT: 25.08%",
           "AAPL: 16.37%"
          ],
          [
           "NVDA: 44.08%",
           "MSFT: 24.94%",
           "AAPL: 16.3%"
          ],
          [
           "NVDA: 44.25%",
           "MSFT: 24.82%",
           "AAPL: 16.25%"
          ],
          [
           "NVDA: 44.38%",
           "MSFT: 24.67%",
           "AAPL: 16.25%"
          ],
          [
           "NVDA: 44.62%",
           "MSFT: 24.5%",
           "AAPL: 16.15%"
          ],
          [
           "NVDA: 44.75%",
           "MSFT: 24.25%",
           "AAPL: 16.16%"
          ],
          [
           "NVDA: 44.94%",
           "MSFT: 24.12%",
           "AAPL: 16.1%"
          ],
          [
           "NVDA: 45.12%",
           "MSFT: 24.0%",
           "AAPL: 16.03%"
          ],
          [
           "NVDA: 45.3%",
           "MSFT: 23.87%",
           "AAPL: 15.97%"
          ],
          [
           "NVDA: 45.48%",
           "MSFT: 23.75%",
           "AAPL: 15.9%"
          ],
          [
           "NVDA: 45.65%",
           "MSFT: 23.62%",
           "AAPL: 15.84%"
          ],
          [
           "NVDA: 45.81%",
           "MSFT: 23.48%",
           "AAPL: 15.79%"
          ],
          [
           "NVDA: 46.03%",
           "MSFT: 23.48%",
           "AAPL: 15.66%"
          ],
          [
           "NVDA: 46.15%",
           "MSFT: 23.38%",
           "AAPL: 15.62%"
          ],
          [
           "NVDA: 46.37%",
           "MSFT: 23.3%",
           "AAPL: 15.5%"
          ],
          [
           "NVDA: 46.52%",
           "MSFT: 23.2%",
           "AAPL: 15.45%"
          ],
          [
           "NVDA: 46.67%",
           "MSFT: 23.09%",
           "AAPL: 15.39%"
          ],
          [
           "NVDA: 46.83%",
           "MSFT: 22.97%",
           "AAPL: 15.33%"
          ],
          [
           "NVDA: 46.98%",
           "MSFT: 22.85%",
           "AAPL: 15.28%"
          ],
          [
           "NVDA: 47.26%",
           "MSFT: 22.7%",
           "AAPL: 15.13%"
          ],
          [
           "NVDA: 47.44%",
           "MSFT: 22.58%",
           "AAPL: 15.07%"
          ],
          [
           "NVDA: 47.62%",
           "MSFT: 22.45%",
           "AAPL: 15.01%"
          ],
          [
           "NVDA: 47.68%",
           "MSFT: 22.33%",
           "AAPL: 15.02%"
          ],
          [
           "NVDA: 47.87%",
           "MSFT: 22.2%",
           "AAPL: 14.95%"
          ],
          [
           "NVDA: 48.05%",
           "MSFT: 22.07%",
           "AAPL: 14.89%"
          ],
          [
           "NVDA: 48.23%",
           "MSFT: 21.95%",
           "AAPL: 14.82%"
          ],
          [
           "NVDA: 48.42%",
           "MSFT: 21.82%",
           "AAPL: 14.76%"
          ],
          [
           "NVDA: 48.61%",
           "MSFT: 21.69%",
           "AAPL: 14.69%"
          ],
          [
           "NVDA: 48.79%",
           "MSFT: 21.56%",
           "AAPL: 14.62%"
          ],
          [
           "NVDA: 48.98%",
           "MSFT: 21.43%",
           "AAPL: 14.55%"
          ],
          [
           "NVDA: 49.17%",
           "MSFT: 21.3%",
           "AAPL: 14.48%"
          ],
          [
           "NVDA: 49.35%",
           "MSFT: 21.17%",
           "AAPL: 14.42%"
          ],
          [
           "NVDA: 49.53%",
           "MSFT: 21.04%",
           "AAPL: 14.35%"
          ],
          [
           "NVDA: 49.71%",
           "MSFT: 20.91%",
           "AAPL: 14.28%"
          ],
          [
           "NVDA: 49.89%",
           "MSFT: 20.78%",
           "AAPL: 14.22%"
          ],
          [
           "NVDA: 50.07%",
           "MSFT: 20.66%",
           "AAPL: 14.15%"
          ],
          [
           "NVDA: 50.24%",
           "MSFT: 20.53%",
           "AAPL: 14.09%"
          ],
          [
           "NVDA: 50.42%",
           "MSFT: 20.41%",
           "AAPL: 14.02%"
          ],
          [
           "NVDA: 50.59%",
           "MSFT: 20.29%",
           "AAPL: 13.96%"
          ],
          [
           "NVDA: 50.76%",
           "MSFT: 20.17%",
           "AAPL: 13.9%"
          ],
          [
           "NVDA: 50.93%",
           "MSFT: 20.05%",
           "AAPL: 13.84%"
          ],
          [
           "NVDA: 51.09%",
           "MSFT: 19.93%",
           "AAPL: 13.77%"
          ],
          [
           "NVDA: 51.26%",
           "MSFT: 19.81%",
           "AAPL: 13.71%"
          ],
          [
           "NVDA: 51.43%",
           "MSFT: 19.69%",
           "AAPL: 13.65%"
          ],
          [
           "NVDA: 51.6%",
           "MSFT: 19.56%",
           "AAPL: 13.59%"
          ],
          [
           "NVDA: 51.77%",
           "MSFT: 19.44%",
           "AAPL: 13.52%"
          ],
          [
           "NVDA: 51.94%",
           "MSFT: 19.32%",
           "AAPL: 13.46%"
          ],
          [
           "NVDA: 52.12%",
           "MSFT: 19.19%",
           "AAPL: 13.39%"
          ],
          [
           "NVDA: 52.3%",
           "MSFT: 19.08%",
           "AAPL: 13.33%"
          ],
          [
           "NVDA: 52.5%",
           "MSFT: 18.95%",
           "AAPL: 13.25%"
          ],
          [
           "NVDA: 52.72%",
           "MSFT: 18.81%",
           "AAPL: 13.18%"
          ],
          [
           "NVDA: 52.84%",
           "MSFT: 18.64%",
           "AAPL: 13.15%"
          ],
          [
           "NVDA: 53.04%",
           "MSFT: 18.38%",
           "AAPL: 13.09%"
          ],
          [
           "NVDA: 53.27%",
           "MSFT: 18.28%",
           "AAPL: 13.01%"
          ],
          [
           "NVDA: 53.45%",
           "MSFT: 18.16%",
           "AAPL: 12.94%"
          ],
          [
           "NVDA: 53.63%",
           "MSFT: 18.04%",
           "AAPL: 12.87%"
          ],
          [
           "NVDA: 53.8%",
           "MSFT: 17.92%",
           "AAPL: 12.8%"
          ],
          [
           "NVDA: 53.98%",
           "MSFT: 17.8%",
           "AAPL: 12.74%"
          ],
          [
           "NVDA: 54.16%",
           "MSFT: 17.68%",
           "AAPL: 12.67%"
          ],
          [
           "NVDA: 54.33%",
           "MSFT: 17.56%",
           "AAPL: 12.6%"
          ],
          [
           "NVDA: 54.5%",
           "MSFT: 17.43%",
           "AAPL: 12.54%"
          ],
          [
           "NVDA: 54.67%",
           "MSFT: 17.3%",
           "AAPL: 12.48%"
          ],
          [
           "NVDA: 54.79%",
           "MSFT: 17.15%",
           "AAPL: 12.42%"
          ],
          [
           "NVDA: 55.02%",
           "MSFT: 17.15%",
           "AAPL: 12.33%"
          ],
          [
           "NVDA: 55.15%",
           "MSFT: 17.04%",
           "AAPL: 12.29%"
          ],
          [
           "NVDA: 55.3%",
           "MSFT: 16.92%",
           "AAPL: 12.23%"
          ],
          [
           "NVDA: 55.49%",
           "MSFT: 16.8%",
           "AAPL: 12.17%"
          ],
          [
           "NVDA: 55.71%",
           "MSFT: 16.67%",
           "AAPL: 12.09%"
          ],
          [
           "NVDA: 55.82%",
           "MSFT: 16.47%",
           "AAPL: 12.06%"
          ],
          [
           "NVDA: 56.01%",
           "MSFT: 16.21%",
           "AAPL: 11.98%"
          ],
          [
           "NVDA: 56.27%",
           "MSFT: 16.15%",
           "AAPL: 11.91%"
          ],
          [
           "NVDA: 56.38%",
           "MSFT: 13.1%",
           "AAPL: 11.16%"
          ],
          [
           "NVDA: 56.57%",
           "MSFT: 12.95%",
           "AAPL: 11.06%"
          ],
          [
           "NVDA: 56.74%",
           "MSFT: 12.86%",
           "AAPL: 10.99%"
          ],
          [
           "NVDA: 56.92%",
           "MSFT: 12.77%",
           "AAPL: 10.91%"
          ],
          [
           "NVDA: 57.09%",
           "MSFT: 12.67%",
           "AAPL: 10.84%"
          ],
          [
           "NVDA: 57.27%",
           "MSFT: 12.58%",
           "AAPL: 10.76%"
          ],
          [
           "NVDA: 57.44%",
           "MSFT: 12.49%",
           "AAPL: 10.68%"
          ],
          [
           "NVDA: 57.62%",
           "MSFT: 12.4%",
           "AAPL: 10.61%"
          ],
          [
           "NVDA: 57.8%",
           "MSFT: 12.3%",
           "AAPL: 10.53%"
          ],
          [
           "NVDA: 57.98%",
           "MSFT: 12.21%",
           "AAPL: 10.46%"
          ],
          [
           "NVDA: 58.16%",
           "MSFT: 12.12%",
           "AAPL: 10.38%"
          ],
          [
           "NVDA: 58.34%",
           "MSFT: 12.03%",
           "AAPL: 10.3%"
          ],
          [
           "NVDA: 58.52%",
           "MSFT: 11.93%",
           "AAPL: 10.23%"
          ],
          [
           "NVDA: 58.69%",
           "MSFT: 11.84%",
           "AAPL: 10.15%"
          ],
          [
           "NVDA: 58.87%",
           "MSFT: 11.75%",
           "AAPL: 10.08%"
          ],
          [
           "NVDA: 59.04%",
           "MSFT: 11.66%",
           "AAPL: 10.0%"
          ],
          [
           "NVDA: 59.22%",
           "MSFT: 11.56%",
           "AAPL: 9.93%"
          ],
          [
           "NVDA: 59.39%",
           "MSFT: 11.47%",
           "AAPL: 9.85%"
          ],
          [
           "NVDA: 59.56%",
           "MSFT: 11.38%",
           "AAPL: 9.78%"
          ],
          [
           "NVDA: 59.73%",
           "MSFT: 11.28%",
           "TSLA: 9.75%"
          ],
          [
           "NVDA: 59.91%",
           "MSFT: 11.19%",
           "TSLA: 9.8%"
          ],
          [
           "NVDA: 60.09%",
           "MSFT: 11.1%",
           "TSLA: 9.85%"
          ],
          [
           "NVDA: 60.28%",
           "MSFT: 11.01%",
           "TSLA: 9.9%"
          ],
          [
           "NVDA: 60.46%",
           "MSFT: 10.92%",
           "TSLA: 9.96%"
          ],
          [
           "NVDA: 60.64%",
           "MSFT: 10.83%",
           "TSLA: 10.02%"
          ],
          [
           "NVDA: 60.82%",
           "MSFT: 10.74%",
           "TSLA: 10.07%"
          ],
          [
           "NVDA: 60.99%",
           "MSFT: 10.65%",
           "TSLA: 10.13%"
          ],
          [
           "NVDA: 61.17%",
           "MSFT: 10.55%",
           "TSLA: 10.2%"
          ],
          [
           "NVDA: 61.34%",
           "MSFT: 10.46%",
           "TSLA: 10.26%"
          ],
          [
           "NVDA: 61.52%",
           "MSFT: 10.37%",
           "TSLA: 10.32%"
          ],
          [
           "NVDA: 61.69%",
           "TSLA: 10.38%",
           "MSFT: 10.28%"
          ],
          [
           "NVDA: 61.87%",
           "TSLA: 10.44%",
           "MSFT: 10.19%"
          ],
          [
           "NVDA: 62.04%",
           "TSLA: 10.5%",
           "MSFT: 10.1%"
          ],
          [
           "NVDA: 62.22%",
           "TSLA: 10.56%",
           "MSFT: 10.0%"
          ],
          [
           "NVDA: 62.4%",
           "TSLA: 10.62%",
           "MSFT: 9.91%"
          ],
          [
           "NVDA: 62.58%",
           "TSLA: 10.68%",
           "MSFT: 9.82%"
          ],
          [
           "NVDA: 62.76%",
           "TSLA: 10.73%",
           "MSFT: 9.73%"
          ],
          [
           "NVDA: 62.95%",
           "TSLA: 10.78%",
           "MSFT: 9.64%"
          ],
          [
           "NVDA: 63.14%",
           "TSLA: 10.82%",
           "MSFT: 9.55%"
          ],
          [
           "NVDA: 63.34%",
           "TSLA: 10.85%",
           "MSFT: 9.45%"
          ],
          [
           "NVDA: 63.44%",
           "TSLA: 11.0%",
           "MSFT: 9.4%"
          ],
          [
           "NVDA: 63.55%",
           "TSLA: 11.13%",
           "MSFT: 9.38%"
          ],
          [
           "NVDA: 63.8%",
           "TSLA: 11.11%",
           "MSFT: 9.22%"
          ],
          [
           "NVDA: 63.98%",
           "TSLA: 11.17%",
           "MSFT: 9.13%"
          ],
          [
           "NVDA: 64.15%",
           "TSLA: 11.23%",
           "MSFT: 9.04%"
          ],
          [
           "NVDA: 64.33%",
           "TSLA: 11.28%",
           "MSFT: 8.95%"
          ],
          [
           "NVDA: 64.51%",
           "TSLA: 11.34%",
           "MSFT: 8.86%"
          ],
          [
           "NVDA: 64.69%",
           "TSLA: 11.4%",
           "MSFT: 8.77%"
          ],
          [
           "NVDA: 64.87%",
           "TSLA: 11.46%",
           "MSFT: 8.67%"
          ],
          [
           "NVDA: 65.04%",
           "TSLA: 11.52%",
           "MSFT: 8.58%"
          ],
          [
           "NVDA: 65.22%",
           "TSLA: 11.58%",
           "MSFT: 8.49%"
          ],
          [
           "NVDA: 65.4%",
           "TSLA: 11.64%",
           "MSFT: 8.4%"
          ],
          [
           "NVDA: 65.57%",
           "TSLA: 11.7%",
           "MSFT: 8.31%"
          ],
          [
           "NVDA: 65.75%",
           "TSLA: 11.76%",
           "MSFT: 8.22%"
          ],
          [
           "NVDA: 65.93%",
           "TSLA: 11.82%",
           "MSFT: 8.12%"
          ],
          [
           "NVDA: 66.1%",
           "TSLA: 11.88%",
           "MSFT: 8.03%"
          ],
          [
           "NVDA: 66.28%",
           "TSLA: 11.94%",
           "MSFT: 7.94%"
          ],
          [
           "NVDA: 66.46%",
           "TSLA: 12.0%",
           "MSFT: 7.85%"
          ],
          [
           "NVDA: 66.63%",
           "TSLA: 12.06%",
           "MSFT: 7.76%"
          ],
          [
           "NVDA: 66.81%",
           "TSLA: 12.12%",
           "MSFT: 7.66%"
          ],
          [
           "NVDA: 66.99%",
           "TSLA: 12.18%",
           "MSFT: 7.57%"
          ],
          [
           "NVDA: 67.16%",
           "TSLA: 12.24%",
           "MSFT: 7.48%"
          ],
          [
           "NVDA: 67.34%",
           "TSLA: 12.3%",
           "MSFT: 7.39%"
          ],
          [
           "NVDA: 67.52%",
           "TSLA: 12.36%",
           "MSFT: 7.3%"
          ],
          [
           "NVDA: 67.69%",
           "TSLA: 12.41%",
           "MSFT: 7.21%"
          ],
          [
           "NVDA: 67.87%",
           "TSLA: 12.47%",
           "MSFT: 7.12%"
          ],
          [
           "NVDA: 68.05%",
           "TSLA: 12.53%",
           "MSFT: 7.02%"
          ],
          [
           "NVDA: 68.22%",
           "TSLA: 12.59%",
           "MSFT: 6.93%"
          ],
          [
           "NVDA: 68.4%",
           "TSLA: 12.65%",
           "MSFT: 6.84%"
          ],
          [
           "NVDA: 68.58%",
           "TSLA: 12.71%",
           "MSFT: 6.75%"
          ],
          [
           "NVDA: 68.76%",
           "TSLA: 12.77%",
           "MSFT: 6.66%"
          ],
          [
           "NVDA: 68.93%",
           "TSLA: 12.83%",
           "MSFT: 6.57%"
          ],
          [
           "NVDA: 69.11%",
           "TSLA: 12.89%",
           "MSFT: 6.48%"
          ],
          [
           "NVDA: 69.29%",
           "TSLA: 12.95%",
           "MSFT: 6.38%"
          ],
          [
           "NVDA: 69.46%",
           "TSLA: 13.01%",
           "MSFT: 6.29%"
          ],
          [
           "NVDA: 69.64%",
           "TSLA: 13.07%",
           "MSFT: 6.2%"
          ],
          [
           "NVDA: 69.82%",
           "TSLA: 13.13%",
           "MSFT: 6.11%"
          ],
          [
           "NVDA: 69.99%",
           "TSLA: 13.19%",
           "MSFT: 6.02%"
          ],
          [
           "NVDA: 70.17%",
           "TSLA: 13.25%",
           "MSFT: 5.93%"
          ],
          [
           "NVDA: 70.47%",
           "TSLA: 13.18%",
           "MSFT: 5.82%"
          ],
          [
           "NVDA: 70.64%",
           "TSLA: 13.25%",
           "MSFT: 5.73%"
          ],
          [
           "NVDA: 70.81%",
           "TSLA: 13.32%",
           "MSFT: 5.64%"
          ],
          [
           "NVDA: 70.98%",
           "TSLA: 13.39%",
           "MSFT: 5.55%"
          ],
          [
           "NVDA: 71.15%",
           "TSLA: 13.45%",
           "MSFT: 5.46%"
          ],
          [
           "NVDA: 71.32%",
           "TSLA: 13.52%",
           "MSFT: 5.37%"
          ],
          [
           "NVDA: 71.49%",
           "TSLA: 13.59%",
           "MSFT: 5.28%"
          ],
          [
           "NVDA: 71.66%",
           "TSLA: 13.66%",
           "MSFT: 5.19%"
          ],
          [
           "NVDA: 71.83%",
           "TSLA: 13.72%",
           "MSFT: 5.1%"
          ],
          [
           "NVDA: 72.0%",
           "TSLA: 13.79%",
           "MSFT: 5.01%"
          ],
          [
           "NVDA: 72.17%",
           "TSLA: 13.85%",
           "MSFT: 4.92%"
          ],
          [
           "NVDA: 72.34%",
           "TSLA: 13.92%",
           "MSFT: 4.83%"
          ],
          [
           "NVDA: 72.52%",
           "TSLA: 13.98%",
           "MSFT: 4.74%"
          ],
          [
           "NVDA: 72.69%",
           "TSLA: 14.04%",
           "MSFT: 4.65%"
          ],
          [
           "NVDA: 72.86%",
           "TSLA: 14.11%",
           "MSFT: 4.56%"
          ],
          [
           "NVDA: 73.04%",
           "TSLA: 14.17%",
           "MSFT: 4.47%"
          ],
          [
           "NVDA: 73.21%",
           "TSLA: 14.23%",
           "MSFT: 4.38%"
          ],
          [
           "NVDA: 73.38%",
           "TSLA: 14.29%",
           "MSFT: 4.29%"
          ],
          [
           "NVDA: 73.56%",
           "TSLA: 14.36%",
           "MSFT: 4.2%"
          ],
          [
           "NVDA: 73.73%",
           "TSLA: 14.42%",
           "MSFT: 4.11%"
          ],
          [
           "NVDA: 73.91%",
           "TSLA: 14.48%",
           "MSFT: 4.02%"
          ],
          [
           "NVDA: 74.08%",
           "TSLA: 14.54%",
           "MSFT: 3.95%"
          ],
          [
           "NVDA: 74.26%",
           "TSLA: 14.61%",
           "MSFT: 3.92%"
          ],
          [
           "NVDA: 74.43%",
           "TSLA: 14.68%",
           "MSFT: 3.89%"
          ],
          [
           "NVDA: 74.61%",
           "TSLA: 14.74%",
           "MSFT: 3.86%"
          ],
          [
           "NVDA: 74.78%",
           "TSLA: 14.81%",
           "MSFT: 3.84%"
          ],
          [
           "NVDA: 74.96%",
           "TSLA: 14.88%",
           "MSFT: 3.81%"
          ],
          [
           "NVDA: 75.13%",
           "TSLA: 14.94%",
           "MSFT: 3.78%"
          ],
          [
           "NVDA: 75.3%",
           "TSLA: 15.01%",
           "MSFT: 3.75%"
          ],
          [
           "NVDA: 75.47%",
           "TSLA: 15.09%",
           "MSFT: 3.71%"
          ],
          [
           "NVDA: 75.65%",
           "TSLA: 15.16%",
           "MSFT: 3.67%"
          ],
          [
           "NVDA: 75.82%",
           "TSLA: 15.24%",
           "MSFT: 3.64%"
          ],
          [
           "NVDA: 75.99%",
           "TSLA: 15.31%",
           "MSFT: 3.6%"
          ],
          [
           "NVDA: 76.16%",
           "TSLA: 15.39%",
           "MSFT: 3.56%"
          ],
          [
           "NVDA: 76.33%",
           "TSLA: 15.46%",
           "MSFT: 3.53%"
          ],
          [
           "NVDA: 76.51%",
           "TSLA: 15.53%",
           "MSFT: 3.48%"
          ],
          [
           "NVDA: 76.7%",
           "TSLA: 15.57%",
           "MSFT: 3.36%"
          ],
          [
           "NVDA: 76.89%",
           "TSLA: 15.61%",
           "MSFT: 3.25%"
          ],
          [
           "NVDA: 77.06%",
           "TSLA: 15.67%",
           "MSFT: 3.16%"
          ],
          [
           "NVDA: 77.23%",
           "TSLA: 15.74%",
           "MSFT: 3.07%"
          ],
          [
           "NVDA: 77.41%",
           "TSLA: 15.8%",
           "MSFT: 2.97%"
          ],
          [
           "NVDA: 77.59%",
           "TSLA: 15.85%",
           "MSFT: 2.88%"
          ],
          [
           "NVDA: 77.77%",
           "TSLA: 15.91%",
           "MSFT: 2.79%"
          ],
          [
           "NVDA: 78.08%",
           "TSLA: 15.82%",
           "MSFT: 2.7%"
          ],
          [
           "NVDA: 78.23%",
           "TSLA: 15.91%",
           "MSFT: 2.6%"
          ],
          [
           "NVDA: 78.38%",
           "TSLA: 15.99%",
           "MSFT: 2.49%"
          ],
          [
           "NVDA: 78.54%",
           "TSLA: 16.06%",
           "MSFT: 2.38%"
          ],
          [
           "NVDA: 78.69%",
           "TSLA: 16.14%",
           "MSFT: 2.26%"
          ],
          [
           "NVDA: 78.85%",
           "TSLA: 16.21%",
           "MSFT: 2.14%"
          ],
          [
           "NVDA: 79.01%",
           "TSLA: 16.28%",
           "MSFT: 2.02%"
          ],
          [
           "NVDA: 79.22%",
           "TSLA: 16.31%",
           "MSFT: 1.93%"
          ],
          [
           "NVDA: 79.41%",
           "TSLA: 16.36%",
           "MSFT: 1.84%"
          ],
          [
           "NVDA: 79.57%",
           "TSLA: 16.42%",
           "MSFT: 1.73%"
          ],
          [
           "NVDA: 79.73%",
           "TSLA: 16.5%",
           "MSFT: 1.64%"
          ],
          [
           "NVDA: 79.89%",
           "TSLA: 16.57%",
           "MSFT: 1.56%"
          ],
          [
           "NVDA: 80.06%",
           "TSLA: 16.64%",
           "MSFT: 1.47%"
          ],
          [
           "NVDA: 80.23%",
           "TSLA: 16.71%",
           "MSFT: 1.38%"
          ],
          [
           "NVDA: 80.41%",
           "TSLA: 16.77%",
           "MSFT: 1.29%"
          ],
          [
           "NVDA: 80.59%",
           "TSLA: 16.82%",
           "MSFT: 1.21%"
          ],
          [
           "NVDA: 80.78%",
           "TSLA: 16.87%",
           "MSFT: 1.12%"
          ],
          [
           "NVDA: 80.98%",
           "TSLA: 16.9%",
           "MSFT: 1.03%"
          ],
          [
           "NVDA: 81.24%",
           "TSLA: 16.88%",
           "MSFT: 0.96%"
          ],
          [
           "NVDA: 81.37%",
           "TSLA: 16.99%",
           "MSFT: 0.88%"
          ],
          [
           "NVDA: 81.51%",
           "TSLA: 17.09%",
           "MSFT: 0.82%"
          ],
          [
           "NVDA: 81.78%",
           "TSLA: 17.04%",
           "MSFT: 0.7%"
          ],
          [
           "NVDA: 81.91%",
           "TSLA: 17.15%",
           "MSFT: 0.56%"
          ],
          [
           "NVDA: 82.06%",
           "TSLA: 17.23%",
           "MSFT: 0.42%"
          ],
          [
           "NVDA: 82.23%",
           "TSLA: 17.29%",
           "MSFT: 0.28%"
          ],
          [
           "NVDA: 82.29%",
           "TSLA: 17.47%",
           "MSFT: 0.14%"
          ],
          [
           "NVDA: 82.22%",
           "TSLA: 17.78%",
           "GOOGL: 0.0%"
          ],
          [
           "NVDA: 85.97%",
           "TSLA: 14.03%",
           "AMZN: 0.0%"
          ],
          [
           "NVDA: 89.71%",
           "TSLA: 10.29%",
           "AMZN: 0.0%"
          ],
          [
           "NVDA: 93.45%",
           "TSLA: 6.55%",
           "AMZN: 0.0%"
          ],
          [
           "NVDA: 97.19%",
           "TSLA: 2.81%",
           "MSFT: 0.0%"
          ]
         ],
         "hovertemplate": "Standard Deviation=%{marker.color}<br>Expected Return=%{y}<br>Stock 1=%{customdata[0]}<br>Stock 2=%{customdata[1]}<br>Stock 3=%{customdata[2]}<extra></extra>",
         "legendgroup": "",
         "marker": {
          "color": [
           0.3328,
           0.3214,
           0.297,
           0.2751,
           0.2562,
           0.2412,
           0.2307,
           0.2252,
           0.2221,
           0.2201,
           0.2195,
           0.2193,
           0.2191,
           0.219,
           0.2191,
           0.2192,
           0.2194,
           0.2197,
           0.2199,
           0.2202,
           0.2205,
           0.2207,
           0.221,
           0.2213,
           0.2215,
           0.2218,
           0.2221,
           0.2224,
           0.2227,
           0.223,
           0.2233,
           0.2236,
           0.2239,
           0.2242,
           0.2245,
           0.2248,
           0.2251,
           0.2255,
           0.2258,
           0.2261,
           0.2264,
           0.2268,
           0.2271,
           0.2274,
           0.2278,
           0.2281,
           0.2285,
           0.2288,
           0.2291,
           0.2295,
           0.2299,
           0.2302,
           0.2306,
           0.231,
           0.2313,
           0.2317,
           0.2321,
           0.2324,
           0.2328,
           0.2332,
           0.2336,
           0.234,
           0.2344,
           0.2348,
           0.2351,
           0.2355,
           0.2359,
           0.2363,
           0.2368,
           0.2372,
           0.2376,
           0.238,
           0.2384,
           0.2388,
           0.2392,
           0.2397,
           0.2401,
           0.2405,
           0.241,
           0.2414,
           0.2418,
           0.2423,
           0.2427,
           0.2432,
           0.2436,
           0.2441,
           0.2445,
           0.245,
           0.2454,
           0.2459,
           0.2463,
           0.2468,
           0.2473,
           0.2477,
           0.2482,
           0.2487,
           0.2492,
           0.2496,
           0.2501,
           0.2506,
           0.2511,
           0.2516,
           0.2521,
           0.2526,
           0.253,
           0.2535,
           0.254,
           0.2545,
           0.255,
           0.2555,
           0.256,
           0.2566,
           0.2571,
           0.2576,
           0.2581,
           0.2586,
           0.2591,
           0.2596,
           0.2602,
           0.2607,
           0.2612,
           0.2618,
           0.2623,
           0.2628,
           0.2633,
           0.2639,
           0.2644,
           0.265,
           0.2655,
           0.266,
           0.2666,
           0.2671,
           0.2677,
           0.2682,
           0.2688,
           0.2693,
           0.2699,
           0.2705,
           0.271,
           0.2716,
           0.2721,
           0.2727,
           0.2733,
           0.2738,
           0.2744,
           0.275,
           0.2756,
           0.2761,
           0.2767,
           0.2773,
           0.2779,
           0.2784,
           0.279,
           0.2796,
           0.2802,
           0.2808,
           0.2814,
           0.282,
           0.2825,
           0.2831,
           0.2837,
           0.2843,
           0.2849,
           0.2854,
           0.286,
           0.2866,
           0.2873,
           0.2878,
           0.2884,
           0.289,
           0.2896,
           0.2902,
           0.2908,
           0.2914,
           0.2921,
           0.2927,
           0.2933,
           0.2939,
           0.2945,
           0.2951,
           0.2957,
           0.2963,
           0.297,
           0.2976,
           0.2982,
           0.2988,
           0.2994,
           0.3,
           0.3007,
           0.3012,
           0.3019,
           0.3025,
           0.3031,
           0.3037,
           0.3044,
           0.305,
           0.3056,
           0.3063,
           0.3069,
           0.3075,
           0.3082,
           0.3088,
           0.3094,
           0.31,
           0.3107,
           0.3113,
           0.312,
           0.3126,
           0.3132,
           0.3139,
           0.3145,
           0.3151,
           0.3158,
           0.3164,
           0.3171,
           0.3177,
           0.3184,
           0.319,
           0.3196,
           0.3203,
           0.3209,
           0.3216,
           0.3222,
           0.3229,
           0.3235,
           0.3242,
           0.3248,
           0.3255,
           0.3261,
           0.3268,
           0.3274,
           0.3281,
           0.3288,
           0.3294,
           0.3301,
           0.3307,
           0.3314,
           0.332,
           0.3327,
           0.3334,
           0.334,
           0.3347,
           0.3354,
           0.336,
           0.3367,
           0.3373,
           0.338,
           0.3387,
           0.3393,
           0.34,
           0.3407,
           0.3414,
           0.342,
           0.3427,
           0.3434,
           0.344,
           0.3447,
           0.3454,
           0.3461,
           0.3467,
           0.3474,
           0.3481,
           0.3488,
           0.3494,
           0.3501,
           0.3508,
           0.3515,
           0.3521,
           0.3528,
           0.3535,
           0.3542,
           0.3549,
           0.3556,
           0.3562,
           0.3569,
           0.3576,
           0.3583,
           0.359,
           0.3597,
           0.3603,
           0.361,
           0.3617,
           0.3624,
           0.3631,
           0.3638,
           0.3645,
           0.3652,
           0.3659,
           0.3665,
           0.3672,
           0.3679,
           0.3686,
           0.3693,
           0.37,
           0.3707,
           0.3714,
           0.3721,
           0.3728,
           0.3735,
           0.3742,
           0.3749,
           0.3756,
           0.3764,
           0.3771,
           0.3778,
           0.3785,
           0.3792,
           0.3799,
           0.3806,
           0.3813,
           0.382,
           0.3827,
           0.3834,
           0.3841,
           0.3848,
           0.3855,
           0.3862,
           0.3869,
           0.3876,
           0.3883,
           0.389,
           0.3897,
           0.3904,
           0.3911,
           0.3918,
           0.3925,
           0.3932,
           0.3939,
           0.3947,
           0.3954,
           0.3961,
           0.3968,
           0.3975,
           0.3982,
           0.3989,
           0.3996,
           0.4003,
           0.4011,
           0.4018,
           0.4025,
           0.4032,
           0.4039,
           0.4046,
           0.4053,
           0.4061,
           0.4068,
           0.4075,
           0.4082,
           0.4089,
           0.4096,
           0.4104,
           0.4111,
           0.4118,
           0.4125,
           0.4132,
           0.414,
           0.4147,
           0.4154,
           0.4161,
           0.4168,
           0.4176,
           0.4183,
           0.419,
           0.4197,
           0.4205,
           0.4212,
           0.4219,
           0.4226,
           0.4234,
           0.4241,
           0.4248,
           0.4255,
           0.4263,
           0.427,
           0.4277,
           0.4284,
           0.4292,
           0.4299,
           0.4306,
           0.4314,
           0.4321,
           0.4328,
           0.4335,
           0.4343,
           0.435,
           0.4357,
           0.4365,
           0.4372,
           0.4379,
           0.4387,
           0.4394,
           0.4401,
           0.4409,
           0.4416,
           0.4423,
           0.4431,
           0.4438,
           0.4445,
           0.4453,
           0.446,
           0.4467,
           0.4475,
           0.4482,
           0.4489,
           0.4497,
           0.4504,
           0.4512,
           0.4519,
           0.4526,
           0.4534,
           0.4541,
           0.4549,
           0.4556,
           0.4563,
           0.4571,
           0.4578,
           0.4586,
           0.4593,
           0.46,
           0.4608,
           0.4615,
           0.4623,
           0.463,
           0.4637,
           0.4645,
           0.4652,
           0.466,
           0.4667,
           0.4675,
           0.4682,
           0.4689,
           0.4697,
           0.4704,
           0.4712,
           0.4719,
           0.4727,
           0.4734,
           0.4742,
           0.4749,
           0.4757,
           0.4764,
           0.4771,
           0.4779,
           0.4786,
           0.4794,
           0.4801,
           0.4809,
           0.4816,
           0.4824,
           0.4831,
           0.4839,
           0.4852,
           0.488,
           0.4922,
           0.4978
          ],
          "coloraxis": "coloraxis",
          "size": 3,
          "symbol": "circle"
         },
         "mode": "markers+lines",
         "name": "",
         "orientation": "v",
         "showlegend": false,
         "type": "scatter",
         "x": [
          0.3328,
          0.3214,
          0.297,
          0.2751,
          0.2562,
          0.2412,
          0.2307,
          0.2252,
          0.2221,
          0.2201,
          0.2195,
          0.2193,
          0.2191,
          0.219,
          0.2191,
          0.2192,
          0.2194,
          0.2197,
          0.2199,
          0.2202,
          0.2205,
          0.2207,
          0.221,
          0.2213,
          0.2215,
          0.2218,
          0.2221,
          0.2224,
          0.2227,
          0.223,
          0.2233,
          0.2236,
          0.2239,
          0.2242,
          0.2245,
          0.2248,
          0.2251,
          0.2255,
          0.2258,
          0.2261,
          0.2264,
          0.2268,
          0.2271,
          0.2274,
          0.2278,
          0.2281,
          0.2285,
          0.2288,
          0.2291,
          0.2295,
          0.2299,
          0.2302,
          0.2306,
          0.231,
          0.2313,
          0.2317,
          0.2321,
          0.2324,
          0.2328,
          0.2332,
          0.2336,
          0.234,
          0.2344,
          0.2348,
          0.2351,
          0.2355,
          0.2359,
          0.2363,
          0.2368,
          0.2372,
          0.2376,
          0.238,
          0.2384,
          0.2388,
          0.2392,
          0.2397,
          0.2401,
          0.2405,
          0.241,
          0.2414,
          0.2418,
          0.2423,
          0.2427,
          0.2432,
          0.2436,
          0.2441,
          0.2445,
          0.245,
          0.2454,
          0.2459,
          0.2463,
          0.2468,
          0.2473,
          0.2477,
          0.2482,
          0.2487,
          0.2492,
          0.2496,
          0.2501,
          0.2506,
          0.2511,
          0.2516,
          0.2521,
          0.2526,
          0.253,
          0.2535,
          0.254,
          0.2545,
          0.255,
          0.2555,
          0.256,
          0.2566,
          0.2571,
          0.2576,
          0.2581,
          0.2586,
          0.2591,
          0.2596,
          0.2602,
          0.2607,
          0.2612,
          0.2618,
          0.2623,
          0.2628,
          0.2633,
          0.2639,
          0.2644,
          0.265,
          0.2655,
          0.266,
          0.2666,
          0.2671,
          0.2677,
          0.2682,
          0.2688,
          0.2693,
          0.2699,
          0.2705,
          0.271,
          0.2716,
          0.2721,
          0.2727,
          0.2733,
          0.2738,
          0.2744,
          0.275,
          0.2756,
          0.2761,
          0.2767,
          0.2773,
          0.2779,
          0.2784,
          0.279,
          0.2796,
          0.2802,
          0.2808,
          0.2814,
          0.282,
          0.2825,
          0.2831,
          0.2837,
          0.2843,
          0.2849,
          0.2854,
          0.286,
          0.2866,
          0.2873,
          0.2878,
          0.2884,
          0.289,
          0.2896,
          0.2902,
          0.2908,
          0.2914,
          0.2921,
          0.2927,
          0.2933,
          0.2939,
          0.2945,
          0.2951,
          0.2957,
          0.2963,
          0.297,
          0.2976,
          0.2982,
          0.2988,
          0.2994,
          0.3,
          0.3007,
          0.3012,
          0.3019,
          0.3025,
          0.3031,
          0.3037,
          0.3044,
          0.305,
          0.3056,
          0.3063,
          0.3069,
          0.3075,
          0.3082,
          0.3088,
          0.3094,
          0.31,
          0.3107,
          0.3113,
          0.312,
          0.3126,
          0.3132,
          0.3139,
          0.3145,
          0.3151,
          0.3158,
          0.3164,
          0.3171,
          0.3177,
          0.3184,
          0.319,
          0.3196,
          0.3203,
          0.3209,
          0.3216,
          0.3222,
          0.3229,
          0.3235,
          0.3242,
          0.3248,
          0.3255,
          0.3261,
          0.3268,
          0.3274,
          0.3281,
          0.3288,
          0.3294,
          0.3301,
          0.3307,
          0.3314,
          0.332,
          0.3327,
          0.3334,
          0.334,
          0.3347,
          0.3354,
          0.336,
          0.3367,
          0.3373,
          0.338,
          0.3387,
          0.3393,
          0.34,
          0.3407,
          0.3414,
          0.342,
          0.3427,
          0.3434,
          0.344,
          0.3447,
          0.3454,
          0.3461,
          0.3467,
          0.3474,
          0.3481,
          0.3488,
          0.3494,
          0.3501,
          0.3508,
          0.3515,
          0.3521,
          0.3528,
          0.3535,
          0.3542,
          0.3549,
          0.3556,
          0.3562,
          0.3569,
          0.3576,
          0.3583,
          0.359,
          0.3597,
          0.3603,
          0.361,
          0.3617,
          0.3624,
          0.3631,
          0.3638,
          0.3645,
          0.3652,
          0.3659,
          0.3665,
          0.3672,
          0.3679,
          0.3686,
          0.3693,
          0.37,
          0.3707,
          0.3714,
          0.3721,
          0.3728,
          0.3735,
          0.3742,
          0.3749,
          0.3756,
          0.3764,
          0.3771,
          0.3778,
          0.3785,
          0.3792,
          0.3799,
          0.3806,
          0.3813,
          0.382,
          0.3827,
          0.3834,
          0.3841,
          0.3848,
          0.3855,
          0.3862,
          0.3869,
          0.3876,
          0.3883,
          0.389,
          0.3897,
          0.3904,
          0.3911,
          0.3918,
          0.3925,
          0.3932,
          0.3939,
          0.3947,
          0.3954,
          0.3961,
          0.3968,
          0.3975,
          0.3982,
          0.3989,
          0.3996,
          0.4003,
          0.4011,
          0.4018,
          0.4025,
          0.4032,
          0.4039,
          0.4046,
          0.4053,
          0.4061,
          0.4068,
          0.4075,
          0.4082,
          0.4089,
          0.4096,
          0.4104,
          0.4111,
          0.4118,
          0.4125,
          0.4132,
          0.414,
          0.4147,
          0.4154,
          0.4161,
          0.4168,
          0.4176,
          0.4183,
          0.419,
          0.4197,
          0.4205,
          0.4212,
          0.4219,
          0.4226,
          0.4234,
          0.4241,
          0.4248,
          0.4255,
          0.4263,
          0.427,
          0.4277,
          0.4284,
          0.4292,
          0.4299,
          0.4306,
          0.4314,
          0.4321,
          0.4328,
          0.4335,
          0.4343,
          0.435,
          0.4357,
          0.4365,
          0.4372,
          0.4379,
          0.4387,
          0.4394,
          0.4401,
          0.4409,
          0.4416,
          0.4423,
          0.4431,
          0.4438,
          0.4445,
          0.4453,
          0.446,
          0.4467,
          0.4475,
          0.4482,
          0.4489,
          0.4497,
          0.4504,
          0.4512,
          0.4519,
          0.4526,
          0.4534,
          0.4541,
          0.4549,
          0.4556,
          0.4563,
          0.4571,
          0.4578,
          0.4586,
          0.4593,
          0.46,
          0.4608,
          0.4615,
          0.4623,
          0.463,
          0.4637,
          0.4645,
          0.4652,
          0.466,
          0.4667,
          0.4675,
          0.4682,
          0.4689,
          0.4697,
          0.4704,
          0.4712,
          0.4719,
          0.4727,
          0.4734,
          0.4742,
          0.4749,
          0.4757,
          0.4764,
          0.4771,
          0.4779,
          0.4786,
          0.4794,
          0.4801,
          0.4809,
          0.4816,
          0.4824,
          0.4831,
          0.4839,
          0.4852,
          0.488,
          0.4922,
          0.4978
         ],
         "xaxis": "x",
         "y": [
          0.2493,
          0.2507,
          0.2522,
          0.2537,
          0.2552,
          0.2566,
          0.2581,
          0.2596,
          0.2611,
          0.2626,
          0.2641,
          0.2656,
          0.267,
          0.2685,
          0.27,
          0.2715,
          0.273,
          0.2745,
          0.276,
          0.2775,
          0.279,
          0.2805,
          0.2821,
          0.2836,
          0.2851,
          0.2866,
          0.2881,
          0.2896,
          0.2911,
          0.2926,
          0.2942,
          0.2957,
          0.2972,
          0.2987,
          0.3003,
          0.3018,
          0.3033,
          0.3049,
          0.3064,
          0.3079,
          0.3095,
          0.311,
          0.3125,
          0.3141,
          0.3156,
          0.3172,
          0.3187,
          0.3203,
          0.3218,
          0.3234,
          0.3249,
          0.3265,
          0.328,
          0.3296,
          0.3312,
          0.3327,
          0.3343,
          0.3359,
          0.3374,
          0.339,
          0.3406,
          0.3421,
          0.3437,
          0.3453,
          0.3469,
          0.3484,
          0.35,
          0.3516,
          0.3532,
          0.3548,
          0.3564,
          0.3579,
          0.3595,
          0.3611,
          0.3627,
          0.3643,
          0.3659,
          0.3675,
          0.3691,
          0.3707,
          0.3723,
          0.3739,
          0.3755,
          0.3772,
          0.3788,
          0.3804,
          0.382,
          0.3836,
          0.3852,
          0.3868,
          0.3885,
          0.3901,
          0.3917,
          0.3933,
          0.395,
          0.3966,
          0.3982,
          0.3999,
          0.4015,
          0.4031,
          0.4048,
          0.4064,
          0.4081,
          0.4097,
          0.4114,
          0.413,
          0.4147,
          0.4163,
          0.418,
          0.4196,
          0.4213,
          0.4229,
          0.4246,
          0.4263,
          0.4279,
          0.4296,
          0.4313,
          0.4329,
          0.4346,
          0.4363,
          0.4379,
          0.4396,
          0.4413,
          0.443,
          0.4447,
          0.4463,
          0.448,
          0.4497,
          0.4514,
          0.4531,
          0.4548,
          0.4565,
          0.4582,
          0.4599,
          0.4616,
          0.4633,
          0.465,
          0.4667,
          0.4684,
          0.4701,
          0.4718,
          0.4735,
          0.4752,
          0.477,
          0.4787,
          0.4804,
          0.4821,
          0.4839,
          0.4856,
          0.4873,
          0.489,
          0.4908,
          0.4925,
          0.4942,
          0.496,
          0.4977,
          0.4994,
          0.5012,
          0.5029,
          0.5047,
          0.5064,
          0.5082,
          0.5099,
          0.5117,
          0.5134,
          0.5152,
          0.517,
          0.5187,
          0.5205,
          0.5222,
          0.524,
          0.5258,
          0.5275,
          0.5293,
          0.5311,
          0.5329,
          0.5346,
          0.5364,
          0.5382,
          0.54,
          0.5418,
          0.5436,
          0.5454,
          0.5471,
          0.5489,
          0.5507,
          0.5525,
          0.5543,
          0.5561,
          0.5579,
          0.5597,
          0.5615,
          0.5634,
          0.5652,
          0.567,
          0.5688,
          0.5706,
          0.5724,
          0.5742,
          0.5761,
          0.5779,
          0.5797,
          0.5815,
          0.5834,
          0.5852,
          0.587,
          0.5889,
          0.5907,
          0.5925,
          0.5944,
          0.5962,
          0.5981,
          0.5999,
          0.6018,
          0.6036,
          0.6055,
          0.6073,
          0.6092,
          0.611,
          0.6129,
          0.6148,
          0.6166,
          0.6185,
          0.6204,
          0.6222,
          0.6241,
          0.626,
          0.6279,
          0.6297,
          0.6316,
          0.6335,
          0.6354,
          0.6373,
          0.6392,
          0.6411,
          0.6429,
          0.6448,
          0.6467,
          0.6486,
          0.6505,
          0.6524,
          0.6543,
          0.6563,
          0.6582,
          0.6601,
          0.662,
          0.6639,
          0.6658,
          0.6677,
          0.6697,
          0.6716,
          0.6735,
          0.6754,
          0.6774,
          0.6793,
          0.6812,
          0.6832,
          0.6851,
          0.687,
          0.689,
          0.6909,
          0.6929,
          0.6948,
          0.6968,
          0.6987,
          0.7007,
          0.7026,
          0.7046,
          0.7065,
          0.7085,
          0.7105,
          0.7124,
          0.7144,
          0.7164,
          0.7183,
          0.7203,
          0.7223,
          0.7243,
          0.7262,
          0.7282,
          0.7302,
          0.7322,
          0.7342,
          0.7362,
          0.7382,
          0.7402,
          0.7422,
          0.7442,
          0.7462,
          0.7482,
          0.7502,
          0.7522,
          0.7542,
          0.7562,
          0.7582,
          0.7602,
          0.7622,
          0.7643,
          0.7663,
          0.7683,
          0.7703,
          0.7724,
          0.7744,
          0.7764,
          0.7785,
          0.7805,
          0.7825,
          0.7846,
          0.7866,
          0.7887,
          0.7907,
          0.7928,
          0.7948,
          0.7969,
          0.7989,
          0.801,
          0.8031,
          0.8051,
          0.8072,
          0.8093,
          0.8113,
          0.8134,
          0.8155,
          0.8175,
          0.8196,
          0.8217,
          0.8238,
          0.8259,
          0.828,
          0.83,
          0.8321,
          0.8342,
          0.8363,
          0.8384,
          0.8405,
          0.8426,
          0.8447,
          0.8468,
          0.849,
          0.8511,
          0.8532,
          0.8553,
          0.8574,
          0.8595,
          0.8617,
          0.8638,
          0.8659,
          0.868,
          0.8702,
          0.8723,
          0.8744,
          0.8766,
          0.8787,
          0.8809,
          0.883,
          0.8851,
          0.8873,
          0.8894,
          0.8916,
          0.8938,
          0.8959,
          0.8981,
          0.9002,
          0.9024,
          0.9046,
          0.9067,
          0.9089,
          0.9111,
          0.9133,
          0.9154,
          0.9176,
          0.9198,
          0.922,
          0.9242,
          0.9264,
          0.9286,
          0.9307,
          0.9329,
          0.9351,
          0.9373,
          0.9395,
          0.9418,
          0.944,
          0.9462,
          0.9484,
          0.9506,
          0.9528,
          0.955,
          0.9573,
          0.9595,
          0.9617,
          0.9639,
          0.9662,
          0.9684,
          0.9706,
          0.9729,
          0.9751,
          0.9774,
          0.9796,
          0.9819,
          0.9841,
          0.9864,
          0.9886,
          0.9909,
          0.9931,
          0.9954,
          0.9977,
          0.9999,
          1.0022,
          1.0045,
          1.0067,
          1.009,
          1.0113,
          1.0136,
          1.0158,
          1.0181,
          1.0204,
          1.0227,
          1.025,
          1.0273,
          1.0296,
          1.0319,
          1.0342,
          1.0365,
          1.0388,
          1.0411,
          1.0434,
          1.0457,
          1.0481,
          1.0504,
          1.0527,
          1.055,
          1.0573,
          1.0597,
          1.062,
          1.0643,
          1.0667,
          1.069,
          1.0714,
          1.0737,
          1.076,
          1.0784,
          1.0807,
          1.0831,
          1.0854,
          1.0878,
          1.0902,
          1.0925,
          1.0949,
          1.0973,
          1.0996,
          1.102,
          1.1044,
          1.1068,
          1.1091
         ],
         "yaxis": "y"
        }
       ],
       "layout": {
        "annotations": [
         {
          "arrowhead": 2,
          "showarrow": true,
          "text": "Maximum Sharpe Ratio Portfolio",
          "x": 0.4839501488645865,
          "xshift": 0,
          "y": 1.0998646504593004,
          "yshift": 10
         }
        ],
        "coloraxis": {
         "colorbar": {
          "title": {
           "text": "Standard Deviation"
          }
         },
         "colorscale": [
          [
           0,
           "rgb(36, 86, 104)"
          ],
          [
           0.16666666666666666,
           "rgb(15, 114, 121)"
          ],
          [
           0.3333333333333333,
           "rgb(13, 143, 129)"
          ],
          [
           0.5,
           "rgb(57, 171, 126)"
          ],
          [
           0.6666666666666666,
           "rgb(110, 197, 116)"
          ],
          [
           0.8333333333333334,
           "rgb(169, 220, 103)"
          ],
          [
           1,
           "rgb(237, 239, 93)"
          ]
         ]
        },
        "legend": {
         "tracegroupgap": 0
        },
        "shapes": [
         {
          "type": "line",
          "x0": 0,
          "x1": 0.4839501488645865,
          "y0": 0.04396999835968018,
          "y1": 1.0998646504593004
         }
        ],
        "template": {
         "data": {
          "bar": [
           {
            "error_x": {
             "color": "#2a3f5f"
            },
            "error_y": {
             "color": "#2a3f5f"
            },
            "marker": {
             "line": {
              "color": "#E5ECF6",
              "width": 0.5
             },
             "pattern": {
              "fillmode": "overlay",
              "size": 10,
              "solidity": 0.2
             }
            },
            "type": "bar"
           }
          ],
          "barpolar": [
           {
            "marker": {
             "line": {
              "color": "#E5ECF6",
              "width": 0.5
             },
             "pattern": {
              "fillmode": "overlay",
              "size": 10,
              "solidity": 0.2
             }
            },
            "type": "barpolar"
           }
          ],
          "carpet": [
           {
            "aaxis": {
             "endlinecolor": "#2a3f5f",
             "gridcolor": "white",
             "linecolor": "white",
             "minorgridcolor": "white",
             "startlinecolor": "#2a3f5f"
            },
            "baxis": {
             "endlinecolor": "#2a3f5f",
             "gridcolor": "white",
             "linecolor": "white",
             "minorgridcolor": "white",
             "startlinecolor": "#2a3f5f"
            },
            "type": "carpet"
           }
          ],
          "choropleth": [
           {
            "colorbar": {
             "outlinewidth": 0,
             "ticks": ""
            },
            "type": "choropleth"
           }
          ],
          "contour": [
           {
            "colorbar": {
             "outlinewidth": 0,
             "ticks": ""
            },
            "colorscale": [
             [
              0,
              "#0d0887"
             ],
             [
              0.1111111111111111,
              "#46039f"
             ],
             [
              0.2222222222222222,
              "#7201a8"
             ],
             [
              0.3333333333333333,
              "#9c179e"
             ],
             [
              0.4444444444444444,
              "#bd3786"
             ],
             [
              0.5555555555555556,
              "#d8576b"
             ],
             [
              0.6666666666666666,
              "#ed7953"
             ],
             [
              0.7777777777777778,
              "#fb9f3a"
             ],
             [
              0.8888888888888888,
              "#fdca26"
             ],
             [
              1,
              "#f0f921"
             ]
            ],
            "type": "contour"
           }
          ],
          "contourcarpet": [
           {
            "colorbar": {
             "outlinewidth": 0,
             "ticks": ""
            },
            "type": "contourcarpet"
           }
          ],
          "heatmap": [
           {
            "colorbar": {
             "outlinewidth": 0,
             "ticks": ""
            },
            "colorscale": [
             [
              0,
              "#0d0887"
             ],
             [
              0.1111111111111111,
              "#46039f"
             ],
             [
              0.2222222222222222,
              "#7201a8"
             ],
             [
              0.3333333333333333,
              "#9c179e"
             ],
             [
              0.4444444444444444,
              "#bd3786"
             ],
             [
              0.5555555555555556,
              "#d8576b"
             ],
             [
              0.6666666666666666,
              "#ed7953"
             ],
             [
              0.7777777777777778,
              "#fb9f3a"
             ],
             [
              0.8888888888888888,
              "#fdca26"
             ],
             [
              1,
              "#f0f921"
             ]
            ],
            "type": "heatmap"
           }
          ],
          "heatmapgl": [
           {
            "colorbar": {
             "outlinewidth": 0,
             "ticks": ""
            },
            "colorscale": [
             [
              0,
              "#0d0887"
             ],
             [
              0.1111111111111111,
              "#46039f"
             ],
             [
              0.2222222222222222,
              "#7201a8"
             ],
             [
              0.3333333333333333,
              "#9c179e"
             ],
             [
              0.4444444444444444,
              "#bd3786"
             ],
             [
              0.5555555555555556,
              "#d8576b"
             ],
             [
              0.6666666666666666,
              "#ed7953"
             ],
             [
              0.7777777777777778,
              "#fb9f3a"
             ],
             [
              0.8888888888888888,
              "#fdca26"
             ],
             [
              1,
              "#f0f921"
             ]
            ],
            "type": "heatmapgl"
           }
          ],
          "histogram": [
           {
            "marker": {
             "pattern": {
              "fillmode": "overlay",
              "size": 10,
              "solidity": 0.2
             }
            },
            "type": "histogram"
           }
          ],
          "histogram2d": [
           {
            "colorbar": {
             "outlinewidth": 0,
             "ticks": ""
            },
            "colorscale": [
             [
              0,
              "#0d0887"
             ],
             [
              0.1111111111111111,
              "#46039f"
             ],
             [
              0.2222222222222222,
              "#7201a8"
             ],
             [
              0.3333333333333333,
              "#9c179e"
             ],
             [
              0.4444444444444444,
              "#bd3786"
             ],
             [
              0.5555555555555556,
              "#d8576b"
             ],
             [
              0.6666666666666666,
              "#ed7953"
             ],
             [
              0.7777777777777778,
              "#fb9f3a"
             ],
             [
              0.8888888888888888,
              "#fdca26"
             ],
             [
              1,
              "#f0f921"
             ]
            ],
            "type": "histogram2d"
           }
          ],
          "histogram2dcontour": [
           {
            "colorbar": {
             "outlinewidth": 0,
             "ticks": ""
            },
            "colorscale": [
             [
              0,
              "#0d0887"
             ],
             [
              0.1111111111111111,
              "#46039f"
             ],
             [
              0.2222222222222222,
              "#7201a8"
             ],
             [
              0.3333333333333333,
              "#9c179e"
             ],
             [
              0.4444444444444444,
              "#bd3786"
             ],
             [
              0.5555555555555556,
              "#d8576b"
             ],
             [
              0.6666666666666666,
              "#ed7953"
             ],
             [
              0.7777777777777778,
              "#fb9f3a"
             ],
             [
              0.8888888888888888,
              "#fdca26"
             ],
             [
              1,
              "#f0f921"
             ]
            ],
            "type": "histogram2dcontour"
           }
          ],
          "mesh3d": [
           {
            "colorbar": {
             "outlinewidth": 0,
             "ticks": ""
            },
            "type": "mesh3d"
           }
          ],
          "parcoords": [
           {
            "line": {
             "colorbar": {
              "outlinewidth": 0,
              "ticks": ""
             }
            },
            "type": "parcoords"
           }
          ],
          "pie": [
           {
            "automargin": true,
            "type": "pie"
           }
          ],
          "scatter": [
           {
            "fillpattern": {
             "fillmode": "overlay",
             "size": 10,
             "solidity": 0.2
            },
            "type": "scatter"
           }
          ],
          "scatter3d": [
           {
            "line": {
             "colorbar": {
              "outlinewidth": 0,
              "ticks": ""
             }
            },
            "marker": {
             "colorbar": {
              "outlinewidth": 0,
              "ticks": ""
             }
            },
            "type": "scatter3d"
           }
          ],
          "scattercarpet": [
           {
            "marker": {
             "colorbar": {
              "outlinewidth": 0,
              "ticks": ""
             }
            },
            "type": "scattercarpet"
           }
          ],
          "scattergeo": [
           {
            "marker": {
             "colorbar": {
              "outlinewidth": 0,
              "ticks": ""
             }
            },
            "type": "scattergeo"
           }
          ],
          "scattergl": [
           {
            "marker": {
             "colorbar": {
              "outlinewidth": 0,
              "ticks": ""
             }
            },
            "type": "scattergl"
           }
          ],
          "scattermapbox": [
           {
            "marker": {
             "colorbar": {
              "outlinewidth": 0,
              "ticks": ""
             }
            },
            "type": "scattermapbox"
           }
          ],
          "scatterpolar": [
           {
            "marker": {
             "colorbar": {
              "outlinewidth": 0,
              "ticks": ""
             }
            },
            "type": "scatterpolar"
           }
          ],
          "scatterpolargl": [
           {
            "marker": {
             "colorbar": {
              "outlinewidth": 0,
              "ticks": ""
             }
            },
            "type": "scatterpolargl"
           }
          ],
          "scatterternary": [
           {
            "marker": {
             "colorbar": {
              "outlinewidth": 0,
              "ticks": ""
             }
            },
            "type": "scatterternary"
           }
          ],
          "surface": [
           {
            "colorbar": {
             "outlinewidth": 0,
             "ticks": ""
            },
            "colorscale": [
             [
              0,
              "#0d0887"
             ],
             [
              0.1111111111111111,
              "#46039f"
             ],
             [
              0.2222222222222222,
              "#7201a8"
             ],
             [
              0.3333333333333333,
              "#9c179e"
             ],
             [
              0.4444444444444444,
              "#bd3786"
             ],
             [
              0.5555555555555556,
              "#d8576b"
             ],
             [
              0.6666666666666666,
              "#ed7953"
             ],
             [
              0.7777777777777778,
              "#fb9f3a"
             ],
             [
              0.8888888888888888,
              "#fdca26"
             ],
             [
              1,
              "#f0f921"
             ]
            ],
            "type": "surface"
           }
          ],
          "table": [
           {
            "cells": {
             "fill": {
              "color": "#EBF0F8"
             },
             "line": {
              "color": "white"
             }
            },
            "header": {
             "fill": {
              "color": "#C8D4E3"
             },
             "line": {
              "color": "white"
             }
            },
            "type": "table"
           }
          ]
         },
         "layout": {
          "annotationdefaults": {
           "arrowcolor": "#2a3f5f",
           "arrowhead": 0,
           "arrowwidth": 1
          },
          "autotypenumbers": "strict",
          "coloraxis": {
           "colorbar": {
            "outlinewidth": 0,
            "ticks": ""
           }
          },
          "colorscale": {
           "diverging": [
            [
             0,
             "#8e0152"
            ],
            [
             0.1,
             "#c51b7d"
            ],
            [
             0.2,
             "#de77ae"
            ],
            [
             0.3,
             "#f1b6da"
            ],
            [
             0.4,
             "#fde0ef"
            ],
            [
             0.5,
             "#f7f7f7"
            ],
            [
             0.6,
             "#e6f5d0"
            ],
            [
             0.7,
             "#b8e186"
            ],
            [
             0.8,
             "#7fbc41"
            ],
            [
             0.9,
             "#4d9221"
            ],
            [
             1,
             "#276419"
            ]
           ],
           "sequential": [
            [
             0,
             "#0d0887"
            ],
            [
             0.1111111111111111,
             "#46039f"
            ],
            [
             0.2222222222222222,
             "#7201a8"
            ],
            [
             0.3333333333333333,
             "#9c179e"
            ],
            [
             0.4444444444444444,
             "#bd3786"
            ],
            [
             0.5555555555555556,
             "#d8576b"
            ],
            [
             0.6666666666666666,
             "#ed7953"
            ],
            [
             0.7777777777777778,
             "#fb9f3a"
            ],
            [
             0.8888888888888888,
             "#fdca26"
            ],
            [
             1,
             "#f0f921"
            ]
           ],
           "sequentialminus": [
            [
             0,
             "#0d0887"
            ],
            [
             0.1111111111111111,
             "#46039f"
            ],
            [
             0.2222222222222222,
             "#7201a8"
            ],
            [
             0.3333333333333333,
             "#9c179e"
            ],
            [
             0.4444444444444444,
             "#bd3786"
            ],
            [
             0.5555555555555556,
             "#d8576b"
            ],
            [
             0.6666666666666666,
             "#ed7953"
            ],
            [
             0.7777777777777778,
             "#fb9f3a"
            ],
            [
             0.8888888888888888,
             "#fdca26"
            ],
            [
             1,
             "#f0f921"
            ]
           ]
          },
          "colorway": [
           "#636efa",
           "#EF553B",
           "#00cc96",
           "#ab63fa",
           "#FFA15A",
           "#19d3f3",
           "#FF6692",
           "#B6E880",
           "#FF97FF",
           "#FECB52"
          ],
          "font": {
           "color": "#2a3f5f"
          },
          "geo": {
           "bgcolor": "white",
           "lakecolor": "white",
           "landcolor": "#E5ECF6",
           "showlakes": true,
           "showland": true,
           "subunitcolor": "white"
          },
          "hoverlabel": {
           "align": "left"
          },
          "hovermode": "closest",
          "mapbox": {
           "style": "light"
          },
          "paper_bgcolor": "white",
          "plot_bgcolor": "#E5ECF6",
          "polar": {
           "angularaxis": {
            "gridcolor": "white",
            "linecolor": "white",
            "ticks": ""
           },
           "bgcolor": "#E5ECF6",
           "radialaxis": {
            "gridcolor": "white",
            "linecolor": "white",
            "ticks": ""
           }
          },
          "scene": {
           "xaxis": {
            "backgroundcolor": "#E5ECF6",
            "gridcolor": "white",
            "gridwidth": 2,
            "linecolor": "white",
            "showbackground": true,
            "ticks": "",
            "zerolinecolor": "white"
           },
           "yaxis": {
            "backgroundcolor": "#E5ECF6",
            "gridcolor": "white",
            "gridwidth": 2,
            "linecolor": "white",
            "showbackground": true,
            "ticks": "",
            "zerolinecolor": "white"
           },
           "zaxis": {
            "backgroundcolor": "#E5ECF6",
            "gridcolor": "white",
            "gridwidth": 2,
            "linecolor": "white",
            "showbackground": true,
            "ticks": "",
            "zerolinecolor": "white"
           }
          },
          "shapedefaults": {
           "line": {
            "color": "#2a3f5f"
           }
          },
          "ternary": {
           "aaxis": {
            "gridcolor": "white",
            "linecolor": "white",
            "ticks": ""
           },
           "baxis": {
            "gridcolor": "white",
            "linecolor": "white",
            "ticks": ""
           },
           "bgcolor": "#E5ECF6",
           "caxis": {
            "gridcolor": "white",
            "linecolor": "white",
            "ticks": ""
           }
          },
          "title": {
           "x": 0.05
          },
          "xaxis": {
           "automargin": true,
           "gridcolor": "white",
           "linecolor": "white",
           "ticks": "",
           "title": {
            "standoff": 15
           },
           "zerolinecolor": "white",
           "zerolinewidth": 2
          },
          "yaxis": {
           "automargin": true,
           "gridcolor": "white",
           "linecolor": "white",
           "ticks": "",
           "title": {
            "standoff": 15
           },
           "zerolinecolor": "white",
           "zerolinewidth": 2
          }
         }
        },
        "title": {
         "text": "Portfolio Efficient Frontier"
        },
        "xaxis": {
         "anchor": "y",
         "domain": [
          0,
          1
         ],
         "tickformat": ",.2%",
         "title": {
          "text": "Standard Deviation"
         }
        },
        "yaxis": {
         "anchor": "x",
         "domain": [
          0,
          1
         ],
         "tickformat": ",.2%",
         "title": {
          "text": "Expected Return"
         }
        }
       }
      }
     },
     "metadata": {},
     "output_type": "display_data"
    }
   ],
   "source": [
    "from pynance import portfolio_optimizer as po\n",
    "ticker_list = ['AAPL', 'GOOGL', 'MSFT', 'TSLA', 'NVDA', 'AMZN', 'META']\n",
    "portfolio = po.PortfolioCalculations(ticker_list)\n",
    "fig = portfolio.efficient_frontier()\n",
    "fig.show()"
   ]
  },
  {
   "cell_type": "code",
   "execution_count": 8,
   "metadata": {},
   "outputs": [
    {
     "name": "stderr",
     "output_type": "stream",
     "text": [
      "C:\\Users\\ibsan\\Desktop\\TenX\\week-1\\pynance\\pynance\\datasources\\data_retriever.py:19: FutureWarning:\n",
      "\n",
      "Series.__getitem__ treating keys as positions is deprecated. In a future version, integer keys will always be treated as labels (consistent with DataFrame behavior). To access a value by position, use `ser.iloc[pos]`\n",
      "\n",
      "C:\\Users\\ibsan\\Desktop\\TenX\\week-1\\pynance\\pynance\\datasources\\data_retriever.py:19: FutureWarning:\n",
      "\n",
      "Series.__getitem__ treating keys as positions is deprecated. In a future version, integer keys will always be treated as labels (consistent with DataFrame behavior). To access a value by position, use `ser.iloc[pos]`\n",
      "\n",
      "C:\\Users\\ibsan\\Desktop\\TenX\\week-1\\pynance\\pynance\\datasources\\data_retriever.py:19: FutureWarning:\n",
      "\n",
      "Series.__getitem__ treating keys as positions is deprecated. In a future version, integer keys will always be treated as labels (consistent with DataFrame behavior). To access a value by position, use `ser.iloc[pos]`\n",
      "\n",
      "C:\\Users\\ibsan\\Desktop\\TenX\\week-1\\pynance\\pynance\\datasources\\data_retriever.py:19: FutureWarning:\n",
      "\n",
      "Series.__getitem__ treating keys as positions is deprecated. In a future version, integer keys will always be treated as labels (consistent with DataFrame behavior). To access a value by position, use `ser.iloc[pos]`\n",
      "\n",
      "C:\\Users\\ibsan\\Desktop\\TenX\\week-1\\pynance\\pynance\\datasources\\data_retriever.py:19: FutureWarning:\n",
      "\n",
      "Series.__getitem__ treating keys as positions is deprecated. In a future version, integer keys will always be treated as labels (consistent with DataFrame behavior). To access a value by position, use `ser.iloc[pos]`\n",
      "\n",
      "C:\\Users\\ibsan\\Desktop\\TenX\\week-1\\pynance\\pynance\\datasources\\data_retriever.py:19: FutureWarning:\n",
      "\n",
      "Series.__getitem__ treating keys as positions is deprecated. In a future version, integer keys will always be treated as labels (consistent with DataFrame behavior). To access a value by position, use `ser.iloc[pos]`\n",
      "\n",
      "C:\\Users\\ibsan\\Desktop\\TenX\\week-1\\pynance\\pynance\\datasources\\data_retriever.py:19: FutureWarning:\n",
      "\n",
      "Series.__getitem__ treating keys as positions is deprecated. In a future version, integer keys will always be treated as labels (consistent with DataFrame behavior). To access a value by position, use `ser.iloc[pos]`\n",
      "\n",
      "C:\\Users\\ibsan\\Desktop\\TenX\\week-1\\pynance\\pynance\\datasources\\data_retriever.py:19: FutureWarning:\n",
      "\n",
      "Series.__getitem__ treating keys as positions is deprecated. In a future version, integer keys will always be treated as labels (consistent with DataFrame behavior). To access a value by position, use `ser.iloc[pos]`\n",
      "\n",
      "C:\\Users\\ibsan\\Desktop\\TenX\\week-1\\pynance\\pynance\\datasources\\data_retriever.py:19: FutureWarning:\n",
      "\n",
      "Series.__getitem__ treating keys as positions is deprecated. In a future version, integer keys will always be treated as labels (consistent with DataFrame behavior). To access a value by position, use `ser.iloc[pos]`\n",
      "\n",
      "C:\\Users\\ibsan\\Desktop\\TenX\\week-1\\pynance\\pynance\\datasources\\data_retriever.py:19: FutureWarning:\n",
      "\n",
      "Series.__getitem__ treating keys as positions is deprecated. In a future version, integer keys will always be treated as labels (consistent with DataFrame behavior). To access a value by position, use `ser.iloc[pos]`\n",
      "\n",
      "C:\\Users\\ibsan\\Desktop\\TenX\\week-1\\pynance\\pynance\\datasources\\data_retriever.py:19: FutureWarning:\n",
      "\n",
      "Series.__getitem__ treating keys as positions is deprecated. In a future version, integer keys will always be treated as labels (consistent with DataFrame behavior). To access a value by position, use `ser.iloc[pos]`\n",
      "\n",
      "C:\\Users\\ibsan\\Desktop\\TenX\\week-1\\pynance\\pynance\\datasources\\data_retriever.py:19: FutureWarning:\n",
      "\n",
      "Series.__getitem__ treating keys as positions is deprecated. In a future version, integer keys will always be treated as labels (consistent with DataFrame behavior). To access a value by position, use `ser.iloc[pos]`\n",
      "\n",
      "C:\\Users\\ibsan\\Desktop\\TenX\\week-1\\pynance\\pynance\\datasources\\data_retriever.py:19: FutureWarning:\n",
      "\n",
      "Series.__getitem__ treating keys as positions is deprecated. In a future version, integer keys will always be treated as labels (consistent with DataFrame behavior). To access a value by position, use `ser.iloc[pos]`\n",
      "\n",
      "C:\\Users\\ibsan\\Desktop\\TenX\\week-1\\pynance\\pynance\\datasources\\data_retriever.py:19: FutureWarning:\n",
      "\n",
      "Series.__getitem__ treating keys as positions is deprecated. In a future version, integer keys will always be treated as labels (consistent with DataFrame behavior). To access a value by position, use `ser.iloc[pos]`\n",
      "\n"
     ]
    },
    {
     "name": "stdout",
     "output_type": "stream",
     "text": [
      "      Portfolio Weight\n",
      "AAPL            14.62%\n",
      "GOOGL           20.11%\n",
      "MSFT            56.36%\n",
      "TSLA             0.00%\n",
      "NVDA             8.91%\n",
      "AMZN             0.00%\n",
      "META             0.00%\n"
     ]
    }
   ],
   "source": [
    "from pynance import portfolio_optimizer as po\n",
    "ticker_list = ['AAPL', 'GOOGL', 'MSFT', 'TSLA', 'NVDA', 'AMZN', 'META']\n",
    "portfolio_ID = 56\n",
    "portfolio = po.PortfolioCalculations(ticker_list)\n",
    "portfolio_56_allocation = portfolio.capital_allocation(portfolio_ID)\n",
    "print(portfolio_56_allocation.head(7))\n"
   ]
  },
  {
   "cell_type": "markdown",
   "metadata": {},
   "source": [
    "HARD CODED PORTFOLIO ANALYSIS"
   ]
  },
  {
   "cell_type": "code",
   "execution_count": 9,
   "metadata": {},
   "outputs": [
    {
     "name": "stderr",
     "output_type": "stream",
     "text": [
      "[*********************100%***********************]  7 of 7 completed"
     ]
    },
    {
     "name": "stdout",
     "output_type": "stream",
     "text": [
      "\n",
      "Portfolio Expected Annual Return: 0.2545\n",
      "Portfolio Volatility (Standard Deviation): 0.3750\n"
     ]
    },
    {
     "name": "stderr",
     "output_type": "stream",
     "text": [
      "\n"
     ]
    }
   ],
   "source": [
    "import yfinance as yf\n",
    "import pandas as pd\n",
    "import numpy as np\n",
    "import matplotlib.pyplot as plt\n",
    "\n",
    "# Define the tickers\n",
    "tickers = ['AAPL', 'GOOGL', 'MSFT', 'TSLA', 'NVDA', 'AMZN', 'META']\n",
    "\n",
    "# Download historical data\n",
    "data = yf.download(tickers, start=\"2020-01-01\", end=\"2023-01-01\")['Adj Close']\n",
    "\n",
    "# Calculate daily returns\n",
    "returns = data.pct_change().dropna()\n",
    "\n",
    "# Calculate portfolio weights (equal weights for simplicity)\n",
    "weights = np.array([1/len(tickers)] * len(tickers))\n",
    "\n",
    "# Calculate portfolio return\n",
    "portfolio_return = np.sum(returns.mean() * weights) * 252 # Annualized\n",
    "\n",
    "# Calculate portfolio volatility (standard deviation)\n",
    "portfolio_volatility = np.sqrt(np.dot(weights.T, np.dot(returns.cov() * 252, weights)))\n",
    "\n",
    "# Display results\n",
    "print(f\"\\nPortfolio Expected Annual Return: {portfolio_return:.4f}\")\n",
    "print(f\"Portfolio Volatility (Standard Deviation): {portfolio_volatility:.4f}\")\n",
    "\n"
   ]
  },
  {
   "cell_type": "code",
   "execution_count": 10,
   "metadata": {},
   "outputs": [
    {
     "data": {
      "image/png": "[encoded data removed]",
      "text/plain": [
       "<Figure size 1000x600 with 1 Axes>"
      ]
     },
     "metadata": {},
     "output_type": "display_data"
    }
   ],
   "source": [
    "# Plotting\n",
    "plt.figure(figsize=(10, 6))\n",
    "plt.scatter(returns.std() * np.sqrt(252), returns.mean() * 252, s=50)\n",
    "plt.xlabel('Annualized Volatility')\n",
    "plt.ylabel('Annualized Return')\n",
    "\n",
    "# Add portfolio to the plot\n",
    "plt.scatter(portfolio_volatility, portfolio_return, marker='*', s=200, color='red', label='Portfolio')\n",
    "plt.legend()\n",
    "\n",
    "for ticker in tickers:\n",
    "    x = (returns.std() * np.sqrt(252))[ticker]  # Get annualized volatility for the ticker\n",
    "    y = (returns.mean() * 252)[ticker]  # Get annualized return for the ticker\n",
    "    plt.annotate(ticker, (x, y))  # Annotate with ticker, using x and y coordinates\n",
    "    \n",
    "plt.title('Portfolio Analysis')\n",
    "plt.grid(True)\n",
    "plt.show()"
   ]
  }
 ],
 "metadata": {
  "kernelspec": {
   "display_name": "tenxvenv",
   "language": "python",
   "name": "python3"
  },
  "language_info": {
   "codemirror_mode": {
    "name": "ipython",
    "version": 3
   },
   "file_extension": ".py",
   "mimetype": "text/x-python",
   "name": "python",
   "nbconvert_exporter": "python",
   "pygments_lexer": "ipython3",
   "version": "3.12.3"
  }
 },
 "nbformat": 4,
 "nbformat_minor": 2
}
