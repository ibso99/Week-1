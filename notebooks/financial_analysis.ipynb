{
 "cells": [
  {
   "cell_type": "code",
   "execution_count": null,
   "metadata": {},
   "outputs": [],
   "source": [
    "# 2 Quantitative analysis using pynance and TaLib\n",
    "import talib\n"
   ]
  }
 ],
 "metadata": {
  "kernelspec": {
   "display_name": "tenxvenv",
   "language": "python",
   "name": "python3"
  },
  "language_info": {
   "name": "python",
   "version": "3.12.3"
  }
 },
 "nbformat": 4,
 "nbformat_minor": 2
}
